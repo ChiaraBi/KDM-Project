{
  "nbformat": 4,
  "nbformat_minor": 0,
  "metadata": {
    "colab": {
      "name": "FOL.ipynb",
      "provenance": [],
      "collapsed_sections": []
    },
    "kernelspec": {
      "display_name": "KDM",
      "language": "python",
      "name": "kdm"
    },
    "language_info": {
      "codemirror_mode": {
        "name": "ipython",
        "version": 3
      },
      "file_extension": ".py",
      "mimetype": "text/x-python",
      "name": "python",
      "nbconvert_exporter": "python",
      "pygments_lexer": "ipython3",
      "version": "3.6.6"
    }
  },
  "cells": [
    {
      "cell_type": "markdown",
      "metadata": {
        "id": "ho9a5FRlNmer"
      },
      "source": [
        "# Sympy Expansion with First Order Logic\n",
        "\n",
        "Chiara Bigarella nr.2004248\n",
        "\n",
        "Silvia Poletti nr.1239133\n"
      ]
    },
    {
      "cell_type": "code",
      "metadata": {
        "id": "Mx_R7I5m9Z4I"
      },
      "source": [
        "from sympy import cacheit, Symbol\n",
        "from sympy.core.function import Function, UndefinedFunction, Application\n",
        "import itertools\n",
        "\n",
        "'''\n",
        "All classes that require the implementation of arithmentic operators, should\n",
        "derive from class Expr. Expr class is the base class of any algebraic expression.\n",
        "Function is a subclass of Expr.\n",
        "'''\n",
        "\n",
        "class Constant_FOL(Symbol):\n",
        "    is_Constant = True\n",
        "\n",
        "\n",
        "class Variable_FOL(Symbol):\n",
        "    is_Constant = False\n",
        "\n",
        "\n",
        "class FunctionalSymbol(Function):\n",
        "    def __new__(cls, *args, **options):\n",
        "        if cls is FunctionalSymbol:\n",
        "            # to make the object callable\n",
        "            options['bases'] = (AppliedFunctionalSymbol,)\n",
        "            # a functional symbol is considered as an UndefinedFunction\n",
        "            fun_symbol = UndefinedFunction(*args, **options)\n",
        "            return fun_symbol\n",
        "        return super(FunctionalSymbol, cls).__new__(cls, *args, **options)\n",
        "\n",
        "    def ground(self, var_name, constant):\n",
        "        fun = FunctionalSymbol(self.name)\n",
        "        variables = []\n",
        "        # len(self.args) = arity of the functional symbol\n",
        "        for i in range(0, len(self.args)):\n",
        "          if self.args[i].is_Symbol and self.args[i].name == var_name:\n",
        "            variables.append(constant)\n",
        "          elif self.args[i].is_Symbol:\n",
        "            variables.append(self.args[i])\n",
        "          else:\n",
        "            variables.append(self.args[i].ground(var_name, constant))\n",
        "        return fun(*variables)\n",
        "\n",
        "\n",
        "class AppliedFunctionalSymbol(FunctionalSymbol):\n",
        "    \"\"\"\n",
        "    Base class for expressions resulting from the application of a functional\n",
        "    symbol.\n",
        "    \"\"\"\n",
        "    pass\n",
        "\n",
        "\n",
        "class Formula(Function):\n",
        "    is_Predicate = False\n",
        "    is_Quantifier = False\n",
        "    \n",
        "    # redefinition of and\n",
        "    def __and__(self, other):\n",
        "        \"\"\"Overloading for &.\"\"\"\n",
        "        return And_FOL(self, other)\n",
        "\n",
        "    # redefinition of or\n",
        "    def __or__(self, other):\n",
        "        \"\"\"Overloading for |.\"\"\"\n",
        "        return Or_FOL(self, other)\n",
        "\n",
        "    # redefinition of not\n",
        "    def __invert__(self):\n",
        "        \"\"\"Overloading for ~.\"\"\"\n",
        "        return Not_FOL(self)\n",
        "\n",
        "    # redefinition of implies\n",
        "    def __rshift__(self, other):\n",
        "        \"\"\"Overloading for >>.\"\"\"\n",
        "        return Implies_FOL(self, other)\n",
        "\n",
        "    # redefinition of is implied\n",
        "    def __lshift__(self, other):\n",
        "        \"\"\"Overloading for <<.\"\"\"\n",
        "        return Implies_FOL(other, self)\n",
        "\n",
        "    # reverse operations\n",
        "    __rand__ = __and__\n",
        "    __ror__ = __or__\n",
        "    __rrshift__ = __lshift__\n",
        "    __rlshift__ = __rshift__\n",
        "\n",
        "\n",
        "\"\"\"\n",
        "func returns the class name.\n",
        "def func(self):\n",
        "  return self.__class__\n",
        "\"\"\"\n",
        "\n",
        "class LogicalConnective(Formula):\n",
        "    \n",
        "    # In NNF the logical connective 'not' must only be in front of predicates.\n",
        "    # Furthermore, the logical connective 'implies' should be expressed as a\n",
        "    # conjunction.\n",
        "    def to_nnf(self):\n",
        "        # every argument of the formula must have its own to_nnf() method\n",
        "        return self.func(*[a.to_nnf() for a in self.args])\n",
        "\n",
        "\n",
        "class And_FOL(LogicalConnective):\n",
        "\n",
        "    # not(A and B) = not A or not B\n",
        "    def _apply_not(self):\n",
        "        return Or_FOL(self.args[0]._apply_not(), self.args[1]._apply_not())\n",
        "    \n",
        "    def _latex(self,printer,*args):        \n",
        "        if self.args[0].is_Predicate or self.args[0].is_Quantifier or self.args[0].func == Not_FOL:\n",
        "            if self.args[1].is_Predicate or self.args[1].is_Quantifier or self.args[1].func == Not_FOL:\n",
        "                return r'%s \\wedge %s'%tuple([self.args[0]._latex(printer,*args), self.args[1]._latex(printer,*args)])\n",
        "            else:\n",
        "                return r'%s \\wedge (%s)'%tuple([self.args[0]._latex(printer,*args), self.args[1]._latex(printer,*args)])\n",
        "        elif self.args[1].is_Predicate or self.args[1].is_Quantifier or self.args[1].func == Not_FOL:\n",
        "            return r'(%s) \\wedge %s'%tuple([self.args[0]._latex(printer,*args), self.args[1]._latex(printer,*args)])\n",
        "\n",
        "        return r'(%s) \\wedge (%s)'%tuple([self.args[0]._latex(printer,*args), self.args[1]._latex(printer,*args)])\n",
        "    \n",
        "    def ground(self, var_name, constant):\n",
        "        return And_FOL(self.args[0].ground(var_name, constant),self.args[1].ground(var_name, constant))\n",
        "\n",
        "\n",
        "class Or_FOL(LogicalConnective):\n",
        "\n",
        "    # not(A or B) = not A and not B\n",
        "    def _apply_not(self):\n",
        "        return And_FOL(self.args[0]._apply_not(), self.args[1]._apply_not())\n",
        "    \n",
        "    def _latex(self,printer,*args):\n",
        "        if self.args[0].is_Predicate or self.args[0].is_Quantifier or self.args[0].func == Not_FOL:\n",
        "            if self.args[1].is_Predicate or self.args[1].is_Quantifier or self.args[1].func == Not_FOL:\n",
        "                return r'%s \\vee %s'%tuple([self.args[0]._latex(printer,*args), self.args[1]._latex(printer,*args)])\n",
        "            else:\n",
        "                return r'%s \\vee (%s)'%tuple([self.args[0]._latex(printer,*args), self.args[1]._latex(printer,*args)])\n",
        "        elif self.args[1].is_Predicate or self.args[1].is_Quantifier or self.args[1].func == Not_FOL:\n",
        "            return r'(%s) \\vee %s'%tuple([self.args[0]._latex(printer,*args), self.args[1]._latex(printer,*args)])\n",
        "\n",
        "        return r'(%s) \\vee (%s)'%tuple([self.args[0]._latex(printer,*args), self.args[1]._latex(printer,*args)])\n",
        "\n",
        "    def ground(self, var_name, constant):\n",
        "        return Or_FOL(self.args[0].ground(var_name, constant),self.args[1].ground(var_name, constant))\n",
        "    \n",
        "    \n",
        "class Not_FOL(LogicalConnective):\n",
        "\n",
        "    def to_nnf(self):\n",
        "        if self.args[0].is_Predicate:\n",
        "            return self\n",
        "        # if we have a formula preceeded by the not operator, then we call ._apply_not()\n",
        "        neg = self.args[0]._apply_not()\n",
        "        return neg.to_nnf()\n",
        "    \n",
        "    # not (not A) = A\n",
        "    def _apply_not(self):\n",
        "        return self.args[0]\n",
        "\n",
        "    def _latex(self,printer,*args):\n",
        "        if self.args[0].is_Predicate or self.args[0].is_Quantifier or self.args[0].func == Not_FOL:\n",
        "            return r'\\lnot %s'%tuple([self.args[0]._latex(printer,*args)])\n",
        "        return r'\\lnot (%s)'%tuple([self.args[0]._latex(printer,*args)])\n",
        "\n",
        "    def ground(self, var_name, constant):\n",
        "        return Not_FOL(self.args[0].ground(var_name, constant))\n",
        "\n",
        "\n",
        "class Implies_FOL(LogicalConnective):\n",
        "\n",
        "    # A -> B = not A or B\n",
        "    def to_nnf(self):\n",
        "        return Or_FOL(self.args[0]._apply_not().to_nnf(), self.args[1].to_nnf())\n",
        "\n",
        "    # not (A -> B) = A and not B\n",
        "    def _apply_not(self):\n",
        "        return And_FOL(self.args[0], self.args[1]._apply_not())\n",
        "    \n",
        "    def _latex(self,printer,*args):\n",
        "        if self.args[0].is_Predicate or self.args[0].is_Quantifier or self.args[0].func == Not_FOL:\n",
        "            if self.args[1].is_Predicate or self.args[1].is_Quantifier or self.args[1].func == Not_FOL:\n",
        "                return r'%s \\rightarrow %s'%tuple([self.args[0]._latex(printer,*args), self.args[1]._latex(printer,*args)])\n",
        "            else:\n",
        "                return r'%s \\rightarrow (%s)'%tuple([self.args[0]._latex(printer,*args), self.args[1]._latex(printer,*args)])\n",
        "        elif self.args[1].is_Predicate or self.args[1].is_Quantifier or self.args[1].func == Not_FOL:\n",
        "            return r'(%s) \\rightarrow %s'%tuple([self.args[0]._latex(printer,*args), self.args[1]._latex(printer,*args)])\n",
        "        return r'(%s) \\rightarrow (%s)'%tuple([self.args[0]._latex(printer,*args), self.args[1]._latex(printer,*args)])\n",
        "\n",
        "    def ground(self, var_name, constant):\n",
        "        return Implies_FOL(self.args[0].ground(var_name, constant),self.args[1].ground(var_name, constant))\n",
        "\n",
        "\n",
        "class IsEquivalent_FOL(LogicalConnective):\n",
        "\n",
        "    # A <-> B = (A->B) and (B->A)\n",
        "    def to_nnf(self):\n",
        "        return And_FOL(Implies_FOL(self.args[0], self.args[1]).to_nnf(), Implies_FOL(self.args[1], self.args[0]).to_nnf())\n",
        "\n",
        "    # not (A <-> B) = not(A->B) or not(B->A)\n",
        "    def _apply_not(self):\n",
        "        return Or_FOL(Implies_FOL(self.args[0], self.args[1])._apply_not(), Implies_FOL(self.args[1], self.args[0])._apply_not())\n",
        "    \n",
        "    def _latex(self,printer,*args):\n",
        "        if self.args[0].is_Predicate or self.args[0].is_Quantifier or self.args[0].func == Not_FOL:\n",
        "            if self.args[1].is_Predicate or self.args[1].is_Quantifier or self.args[1].func == Not_FOL:\n",
        "                return r'%s \\equiv %s'%tuple([self.args[0]._latex(printer,*args), self.args[1]._latex(printer,*args)])\n",
        "            else:\n",
        "                return r'%s \\equiv (%s)'%tuple([self.args[0]._latex(printer,*args), self.args[1]._latex(printer,*args)])\n",
        "        elif self.args[1].is_Predicate or self.args[1].is_Quantifier or self.args[1].func == Not_FOL:\n",
        "            return r'(%s) \\equiv %s'%tuple([self.args[0]._latex(printer,*args), self.args[1]._latex(printer,*args)])\n",
        "        return r'(%s) \\equiv (%s)'%tuple([self.args[0]._latex(printer,*args), self.args[1]._latex(printer,*args)])\n",
        "\n",
        "    def ground(self, var_name, constant):\n",
        "        return IsEquivalent_FOL(self.args[0].ground(var_name, constant), self.args[1].ground(var_name, constant))\n",
        "\n",
        "\n",
        "class Predicate(Formula):\n",
        "    is_Atom = True\n",
        "    is_Predicate = True\n",
        "\n",
        "    def __new__(cls, *args, **options):\n",
        "      if cls is Predicate:\n",
        "          options['bases'] = (AppliedPredicate,)\n",
        "          # a predicate is considered as an UndefinedFunction\n",
        "          pred = UndefinedFunction(*args, **options)\n",
        "          return pred\n",
        "      return super(Predicate, cls).__new__(cls, *args, **options)\n",
        "     \n",
        "    def to_nnf(self):\n",
        "        return self\n",
        "\n",
        "    def _apply_not(self):\n",
        "        return Not_FOL(self)\n",
        "\n",
        "    def _latex(self,printer,*args):\n",
        "        return r'%s'% str(self)\n",
        "    \n",
        "    def ground(self, var_name, constant):\n",
        "\n",
        "        # len(self.args) = arity of the predicate\n",
        "        pred = Predicate(self.name)\n",
        "        variables = []\n",
        "        for i in range(0,len(self.args)):\n",
        "          if self.args[i].name == var_name:\n",
        "            variables.append(constant)\n",
        "          else:\n",
        "            if self.args[i].is_Symbol:\n",
        "              variables.append(self.args[i])\n",
        "            else:\n",
        "              variables.append(self.args[i].ground(var_name,constant))\n",
        "        return pred(*variables)\n",
        "\n",
        "\n",
        "class AppliedPredicate(Predicate):\n",
        "  \"\"\"\n",
        "  Base class for expressions resulting from the application of a predicate.\n",
        "  \"\"\"\n",
        "  pass\n",
        "\n",
        "\n",
        "class Quantifier(Formula):\n",
        "    is_Quantifier = True\n",
        "    is_Forall = False\n",
        "    is_Exists = False\n",
        "    symbol = None\n",
        "\n",
        "    def __new__(cls, *args, **options):\n",
        "        if cls in (Forall, Exists):\n",
        "            symbol = args[0] # variable which is not free\n",
        "            argslist = list(args)\n",
        "            argslist[0] = cls.name + symbol.name\n",
        "            args = tuple(argslist)\n",
        "            options['bases'] = (cls._getAppliedClass(),)\n",
        "            quantifier = UndefinedFunction(*args, **options)\n",
        "            quantifier.symbol = symbol\n",
        "            return quantifier\n",
        "        return super(Quantifier, cls).__new__(cls, *args, **options)\n",
        "\n",
        "    # quantifier.formula\n",
        "    @property\n",
        "    def formula(self):\n",
        "        return self.args[0]\n",
        "\n",
        "    def to_nnf(self):\n",
        "        return self.func(self.formula.to_nnf())\n",
        "\n",
        "class Forall(Quantifier):\n",
        "    is_Forall = True\n",
        "    name = 'Forall_'\n",
        "    \n",
        "    # not forall = exist not\n",
        "    def _apply_not(self):\n",
        "        exists = Exists(self.symbol)\n",
        "        return exists(self.formula._apply_not())\n",
        "\n",
        "    # it works in the same way for any object of the Forall class\n",
        "    @staticmethod\n",
        "    def _getAppliedClass():\n",
        "        return AppliedForall\n",
        "    \n",
        "    def _latex(self,printer,*args):\n",
        "        if self.formula.is_Predicate or self.args[0].func == Not_FOL:\n",
        "            return r'\\forall %s %s'%tuple([printer._print(self.symbol,*args), self.formula._latex(printer,*args)])\n",
        "        return r'\\forall %s (%s)'%tuple([printer._print(self.symbol,*args), self.formula._latex(printer,*args)])\n",
        "    \n",
        "    def ground(self, set_const):\n",
        "        formula = self.formula.ground(self.symbol.name, set_const[0])\n",
        "        for i in range(1, len(set_const)):\n",
        "          formula = And_FOL(formula, self.formula.ground(self.symbol.name, set_const[i]))\n",
        "        return formula\n",
        "\n",
        "\n",
        "class AppliedForall(Forall):\n",
        "  \"\"\"\n",
        "  Base class for expressions resulting from the application of a for all.\n",
        "  \"\"\"\n",
        "  pass\n",
        "\n",
        "\n",
        "class Exists(Quantifier):\n",
        "    is_Exists = True\n",
        "    name = 'Exists_'\n",
        "\n",
        "    # not exists = forall not\n",
        "    def _apply_not(self):\n",
        "        forall = Forall(self.symbol)\n",
        "        return forall(self.formula._apply_not())\n",
        "\n",
        "    # it works in the same way for any object of the Exists class\n",
        "    @staticmethod\n",
        "    def _getAppliedClass():\n",
        "        return AppliedExists\n",
        "    \n",
        "    def _latex(self,printer,*args):\n",
        "        if self.formula.is_Predicate or self.args[0].func == Not_FOL:\n",
        "            return r'\\exists %s %s'%tuple([printer._print(self.symbol,*args), self.formula._latex(printer,*args)])\n",
        "        return r'\\exists %s (%s)'%tuple([printer._print(self.symbol,*args), self.formula._latex(printer,*args)])\n",
        "    \n",
        "    def ground(self, set_const):\n",
        "        formula = self.formula.ground(self.symbol.name, set_const[0])\n",
        "        for i in range(1, len(set_const)):\n",
        "          formula = Or_FOL(formula, self.formula.ground(self.symbol.name, set_const[i]))\n",
        "        return formula\n",
        "\n",
        "\n",
        "class AppliedExists(Exists):\n",
        "  \"\"\"\n",
        "  Base class for expressions resulting from the application of an exists.\n",
        "  \"\"\"\n",
        "  pass\n",
        "\n",
        "\n",
        "def formula_to_list(formula, delimiter):\n",
        "  '''\n",
        "  For example: Clause(P(x) | Q(y)) becomes Clause(P(x), Q(y)).\n",
        "  '''\n",
        "  if isinstance(formula, delimiter):\n",
        "      l = []\n",
        "      l.extend(formula_to_list(formula.args[0], delimiter))\n",
        "      l.extend(formula_to_list(formula.args[1], delimiter))\n",
        "      return l\n",
        "  else:\n",
        "      return [formula]\n",
        "\n",
        "\n",
        "def get_symbols(formula):\n",
        "  '''Extract the variables contained in the clauses.'''\n",
        "  if formula.func is Symbol and not formula.is_Constant:\n",
        "      return {formula: True}\n",
        "  dictionary = {}\n",
        "  for arg in formula.args:\n",
        "      dictionary.update(get_symbols(arg))\n",
        "  return dictionary\n",
        "\n",
        "\n",
        "def extract_quantifiers(formula):\n",
        "    if formula.is_Predicate:\n",
        "        return formula, []\n",
        "    func = formula.func\n",
        "    if formula.is_Quantifier:\n",
        "        # for example: fun = Exists_x\n",
        "        quant = [func]\n",
        "        f, q = extract_quantifiers(formula.formula)\n",
        "        quant.extend(q)\n",
        "        return f, quant\n",
        "    else:\n",
        "        formulas = []\n",
        "        args = formula.args\n",
        "        quant = [] \n",
        "        for arg in args:\n",
        "            f, q = extract_quantifiers(arg)\n",
        "            formulas.append(f)\n",
        "            quant.extend(q)\n",
        "        return func(*formulas), quant\n",
        "\n",
        "\n",
        "class Clause(Application):\n",
        "    _formula = None\n",
        "    def __new__(cls, *args, **kwargs):\n",
        "        args_list = list(args)\n",
        "        if([] in args_list):\n",
        "            args_list.remove([])\n",
        "        if len(args_list) == 1 and not args_list[0].is_Predicate and args_list[0].func is not Not_FOL:\n",
        "            # it means we have a quantifier \n",
        "            f,_ = extract_quantifiers(args_list[0])\n",
        "            args = formula_to_list(f, Or_FOL)\n",
        "        return super(Clause, cls).__new__(cls, *args, **kwargs)\n",
        "    \n",
        "    '''\n",
        "    Using @property we are allowed to call self.formula, instead of sel.formula().\n",
        "    In this way we indicate that formula is an attribute of Clause.\n",
        "    '''\n",
        "    @property\n",
        "    def formula(self):\n",
        "        if self._formula is None:\n",
        "          for a in self.args:\n",
        "            if self._formula is None:\n",
        "                self._formula = a\n",
        "            else:\n",
        "                self._formula = Or_FOL(self._formula, a)\n",
        "\n",
        "        for s in get_symbols(self._formula).keys():\n",
        "            self._formula = Forall(s)(self._formula)\n",
        "        return self._formula\n",
        "\n",
        "    def substitute(self, sub):\n",
        "        # xreplace is a sympy function\n",
        "        f = self.formula.xreplace(sub)\n",
        "        return Clause(f)\n"
      ],
      "execution_count": 23,
      "outputs": []
    },
    {
      "cell_type": "markdown",
      "metadata": {
        "id": "Z4bwP-gwN3Pw"
      },
      "source": [
        "# FOL Algorithms"
      ]
    },
    {
      "cell_type": "code",
      "metadata": {
        "id": "cczJAyEpN1U7"
      },
      "source": [
        "# ---------\n",
        "# GROUNDING\n",
        "# ---------\n",
        "\n",
        "# Prenex Normal Form\n",
        "def to_pnf(formula):\n",
        "    # Assume to have a different symbol for each quantifier\n",
        "    pnf_formula, quantifiers = extract_quantifiers(formula)\n",
        "    quantifiers.reverse()\n",
        "    for q in quantifiers:\n",
        "        pnf_formula = q(pnf_formula)\n",
        "    return pnf_formula\n",
        "\n",
        "\n",
        "def grounding(formula, constants_set):\n",
        "    # Assume to have the formula in NNF\n",
        "    # Assume to have a different symbol for each quantifier\n",
        "    formula, quantifiers = extract_quantifiers(formula)\n",
        "    for quant in quantifiers:\n",
        "      formula = quant(formula).ground(constants_set)\n",
        "    return formula\n",
        "\n",
        "\n",
        "# -----------\n",
        "# UNIFICATION\n",
        "# -----------\n",
        "\n",
        "def unification(first_atom, second_atom):\n",
        "    if first_atom.func != second_atom.func:\n",
        "      return {}\n",
        "    if len(first_atom.args) != len(second_atom.args):\n",
        "      return {}\n",
        "    sub = {}\n",
        "    for i in range(0, len(first_atom.args)):\n",
        "        s = terms_unification(first_atom.args[i], second_atom.args[i], sub)\n",
        "        if s is None:\n",
        "            return {}\n",
        "        else:\n",
        "            sub.update(s)\n",
        "    return sub\n",
        "\n",
        "\n",
        "def terms_unification(first_term, second_term, sub):\n",
        "    # apply the previous transformations to the 2 terms if needed\n",
        "    if first_term in sub.keys():\n",
        "      first_term = sub.get(first_term)\n",
        "    if second_term in sub.keys():\n",
        "      second_term = sub.get(second_term)\n",
        "    if first_term.is_Symbol and second_term.is_Symbol and first_term.name == second_term.name:\n",
        "        return sub\n",
        "   \n",
        "    if first_term.is_Symbol and not first_term.is_Constant:\n",
        "      # first_term is variable\n",
        "      if second_term.is_Symbol or not is_variable_in_term(second_term, first_term):\n",
        "          sub.update({first_term: second_term})\n",
        "          return sub\n",
        "    elif second_term.is_Symbol and not second_term.is_Constant:\n",
        "      # first_term is not variable and second_term is variable\n",
        "      if first_term.is_Symbol or not is_variable_in_term(first_term, second_term):\n",
        "          sub.update({second_term: first_term})\n",
        "          return sub\n",
        "\n",
        "    if first_term.is_Function and second_term.is_Function:\n",
        "      if first_term.func is second_term.func:\n",
        "          for i in range(0, len(first_term.args)):\n",
        "              s = terms_unification(first_term.args[i], second_term.args[i], sub)\n",
        "              if s is None:\n",
        "                  return None\n",
        "              else:\n",
        "                  sub.update(s)\n",
        "          return sub\n",
        "    # in all the other cases\n",
        "    return None\n",
        "\n",
        "\n",
        "def is_variable_in_term(term, var):\n",
        "    if term.is_Symbol:\n",
        "        if term.is_Constant:\n",
        "            return False\n",
        "        else:\n",
        "            return term is var\n",
        "    res = False\n",
        "    for a in term.args:\n",
        "        res = res | is_variable_in_term(a, var)\n",
        "    return res\n"
      ],
      "execution_count": 24,
      "outputs": []
    },
    {
      "cell_type": "markdown",
      "metadata": {
        "id": "B_L1j8R7cXHY"
      },
      "source": [
        "## Binary Resolution\n",
        "\n",
        "$$\n",
        "\\frac{\\{ l_{1}, \\dots, l_{n}, P(t_{1}, \\dots, t_{n} ) \\} \\{ \\lnot P(u_{1}, \\dots, u_{n} ), l_{n+1}, \\dots, l_{m} \\}}{\\{ l_{1}, \\dots, l_{m}\\} \\sigma}\n",
        "$$\n",
        "\n",
        "\n",
        "where $l_{i}$ is a literal and $\\sigma$ is the Most General Unifier of $P(t_{1}, \\dots, t_{n} )$ and $P(u_{1}, \\dots, u_{n} )$."
      ]
    },
    {
      "cell_type": "code",
      "metadata": {
        "id": "6QY2o6P3cWMs"
      },
      "source": [
        "# ----------------------\n",
        "# BINARY RESOLUTION RULE\n",
        "# ----------------------\n",
        "\n",
        "def binary_resolution(clause1, clause2):\n",
        "    # listing all the literals\n",
        "    cl1 = list(clause1.args).copy()\n",
        "    cl2 = list(clause2.args).copy()\n",
        "    sub = None # substitutions\n",
        "    b = False  # tells whether removals have been made or not\n",
        "\n",
        "    # we consider all the possible combinations of 2 literals\n",
        "    for l1, l2 in itertools.product(cl1, cl2):\n",
        "        if l1.func == Not_FOL and l2.is_Predicate:\n",
        "          # check if l1 is the negation of l2\n",
        "          if l1.args[0] == l2:\n",
        "            # apply resolution\n",
        "            cl1.remove(l1)\n",
        "            cl2.remove(l2)\n",
        "            b = True\n",
        "            break\n",
        "          # apply unification\n",
        "          sub = unification(l1.args[0], l2)\n",
        "\n",
        "        if l2.func == Not_FOL and l1.is_Predicate:\n",
        "          # check if l2 is the negation of l1\n",
        "          if l2.args[0] == l1:\n",
        "            # apply resolution\n",
        "            cl1.remove(l1)\n",
        "            cl2.remove(l2)\n",
        "            b = True\n",
        "            break\n",
        "          # apply unification\n",
        "          sub = unification(l2.args[0], l1)\n",
        "        \n",
        "        if sub != None and sub != {}:\n",
        "            # apply binary resolution\n",
        "            cl1.remove(l1)\n",
        "            cl2.remove(l2)\n",
        "            break\n",
        "\n",
        "    if ((sub == None) or (sub == {})) and (b == False):\n",
        "        return \"Binary Resolution does not apply\"\n",
        "\n",
        "    if (len(cl1) == 0 and len(cl2) == 0):\n",
        "        return \"Empty Clause\"\n",
        "    \n",
        "    # once we concluded one binary resolution, we check if we can make other binary resolutions\n",
        "    result = binary_resolution(Clause(*cl1).substitute(sub), Clause(*cl2).substitute(sub))\n",
        "    if result == \"Binary Resolution does not apply\" or result == \"Empty Clause\":\n",
        "      cl1.extend(cl2)\n",
        "      return Clause(*cl1).substitute(sub)\n",
        "    else:\n",
        "      return result \n"
      ],
      "execution_count": null,
      "outputs": []
    },
    {
      "cell_type": "code",
      "metadata": {
        "id": "ibut9zlY9Z4R"
      },
      "source": [
        "from sympy.core import Function, Symbol\n",
        "\n",
        "x = Variable_FOL('x')\n",
        "y = Variable_FOL('y')\n",
        "z = Variable_FOL('z')\n",
        "\n",
        "a = Constant_FOL('a')\n",
        "b = Constant_FOL('b')\n",
        "c = Constant_FOL('c')\n",
        "d = Constant_FOL('d')\n",
        "\n",
        "f = FunctionalSymbol('f')\n",
        "g = FunctionalSymbol('g')\n",
        "h = FunctionalSymbol('h')\n",
        "\n",
        "P = Predicate('P')\n",
        "Q = Predicate('Q')\n",
        "R = Predicate('R')\n",
        "S = Predicate('S')"
      ],
      "execution_count": 25,
      "outputs": []
    },
    {
      "cell_type": "markdown",
      "metadata": {
        "id": "uVgOx2fDDMI5"
      },
      "source": [
        "# Grounding: Simple Example"
      ]
    },
    {
      "cell_type": "code",
      "metadata": {
        "colab": {
          "base_uri": "https://localhost:8080/",
          "height": 38
        },
        "id": "2JjrSkWQDk7A",
        "outputId": "39035f4d-28b9-4db5-873d-ad69d09356f5"
      },
      "source": [
        "formula = ~Forall(x) (P(x) & Exists(y)(P(y)))\n",
        "formula"
      ],
      "execution_count": null,
      "outputs": [
        {
          "output_type": "execute_result",
          "data": {
            "text/latex": "$\\displaystyle \\lnot \\forall x (P(x) \\wedge \\exists y P(y))$",
            "text/plain": [
              "Not_FOL(Forall_x(And_FOL(P(x), Exists_y(P(y)))))"
            ]
          },
          "metadata": {
            "tags": []
          },
          "execution_count": 5
        }
      ]
    },
    {
      "cell_type": "code",
      "metadata": {
        "colab": {
          "base_uri": "https://localhost:8080/",
          "height": 38
        },
        "id": "Dkuddxef-IY2",
        "outputId": "67479eca-2b03-4dfb-ca53-392608a81e80"
      },
      "source": [
        "term1 = Exists(x) (P(x))\n",
        "term2 = Q(a)\n",
        "formula = term1 >> term2\n",
        "formula.nnf= formula.to_nnf()\n",
        "f = to_pnf(formula.nnf.args[0])\n",
        "formula = f | formula.nnf.args[1]\n",
        "formula\n",
        "Delta = [a,b]\n",
        "grounding(formula,Delta)"
      ],
      "execution_count": null,
      "outputs": [
        {
          "output_type": "execute_result",
          "data": {
            "text/latex": "$\\displaystyle (\\lnot P(a) \\vee Q(a)) \\wedge (\\lnot P(b) \\vee Q(a))$",
            "text/plain": [
              "And_FOL(Or_FOL(Not_FOL(P(a)), Q(a)), Or_FOL(Not_FOL(P(b)), Q(a)))"
            ]
          },
          "metadata": {
            "tags": []
          },
          "execution_count": 22
        }
      ]
    },
    {
      "cell_type": "code",
      "metadata": {
        "colab": {
          "base_uri": "https://localhost:8080/",
          "height": 38
        },
        "id": "WRQmujOO_YJV",
        "outputId": "a68cda01-e21c-4283-cb9b-48c8417d6817"
      },
      "source": [
        "formula"
      ],
      "execution_count": null,
      "outputs": [
        {
          "output_type": "execute_result",
          "data": {
            "text/latex": "$\\displaystyle \\exists x \\lnot P(x) \\vee Q(a)$",
            "text/plain": [
              "Or_FOL(Exists_x(Not_FOL(P(x))), Q(a))"
            ]
          },
          "metadata": {
            "tags": []
          },
          "execution_count": 21
        }
      ]
    },
    {
      "cell_type": "code",
      "metadata": {
        "id": "XKKkf6vn_LHq"
      },
      "source": [
        ""
      ],
      "execution_count": null,
      "outputs": []
    },
    {
      "cell_type": "markdown",
      "metadata": {
        "id": "iPD-vfvfDZYQ"
      },
      "source": [
        "Negation Normal Form\n"
      ]
    },
    {
      "cell_type": "code",
      "metadata": {
        "colab": {
          "base_uri": "https://localhost:8080/",
          "height": 38
        },
        "id": "tyGxqtyd_C5Z",
        "outputId": "c29ead2b-d411-455e-beb8-e302d2798ade"
      },
      "source": [
        "formula.nnf = formula.to_nnf()\n",
        "formula.nnf"
      ],
      "execution_count": null,
      "outputs": [
        {
          "output_type": "execute_result",
          "data": {
            "text/latex": "$\\displaystyle \\exists x (\\lnot P(x) \\vee \\forall y \\lnot P(y))$",
            "text/plain": [
              "Exists_x(Or_FOL(Not_FOL(P(x)), Forall_y(Not_FOL(P(y)))))"
            ]
          },
          "metadata": {
            "tags": []
          },
          "execution_count": 6
        }
      ]
    },
    {
      "cell_type": "markdown",
      "metadata": {
        "id": "P1KJ9YuTDuZ0"
      },
      "source": [
        "Prenex Normal Form"
      ]
    },
    {
      "cell_type": "code",
      "metadata": {
        "colab": {
          "base_uri": "https://localhost:8080/",
          "height": 38
        },
        "id": "2eYk-sqT_e9E",
        "outputId": "4dc37ac2-7c59-4258-c00c-5626e2030862"
      },
      "source": [
        "formula.pnf = to_pnf(formula.nnf)\n",
        "formula.pnf"
      ],
      "execution_count": null,
      "outputs": [
        {
          "output_type": "execute_result",
          "data": {
            "text/latex": "$\\displaystyle \\exists x (\\forall y (\\lnot P(x) \\vee \\lnot P(y)))$",
            "text/plain": [
              "Exists_x(Forall_y(Or_FOL(Not_FOL(P(x)), Not_FOL(P(y)))))"
            ]
          },
          "metadata": {
            "tags": []
          },
          "execution_count": 7
        }
      ]
    },
    {
      "cell_type": "markdown",
      "metadata": {
        "id": "I_7RF3iUD0SA"
      },
      "source": [
        "Grounding"
      ]
    },
    {
      "cell_type": "code",
      "metadata": {
        "colab": {
          "base_uri": "https://localhost:8080/",
          "height": 38
        },
        "id": "r-n089vG_mit",
        "outputId": "7063e277-29b7-4473-ab96-04040c1ecad5"
      },
      "source": [
        "Delta = [a,b]\n",
        "grounding(formula.pnf,Delta)"
      ],
      "execution_count": null,
      "outputs": [
        {
          "output_type": "execute_result",
          "data": {
            "text/latex": "$\\displaystyle ((\\lnot P(a) \\vee \\lnot P(a)) \\vee (\\lnot P(b) \\vee \\lnot P(a))) \\wedge ((\\lnot P(a) \\vee \\lnot P(b)) \\vee (\\lnot P(b) \\vee \\lnot P(b)))$",
            "text/plain": [
              "And_FOL(Or_FOL(Or_FOL(Not_FOL(P(a)), Not_FOL(P(a))), Or_FOL(Not_FOL(P(b)), Not_FOL(P(a)))), Or_FOL(Or_FOL(Not_FOL(P(a)), Not_FOL(P(b))), Or_FOL(Not_FOL(P(b)), Not_FOL(P(b)))))"
            ]
          },
          "metadata": {
            "tags": []
          },
          "execution_count": 8
        }
      ]
    },
    {
      "cell_type": "markdown",
      "metadata": {
        "id": "56fxeAIpEMdZ"
      },
      "source": [
        "# Grounding: More Complex Example"
      ]
    },
    {
      "cell_type": "code",
      "metadata": {
        "colab": {
          "base_uri": "https://localhost:8080/",
          "height": 38
        },
        "id": "KZOOsEaDEVL-",
        "outputId": "9a636cdb-b9df-4100-b717-d56394fcfd01"
      },
      "source": [
        "formula = ~Forall(x) (P(x) & (Exists (y) (~P(x,y) & Q(f(y))) >> Exists (z) (~P(x) & Q(f(x),a,z))))\n",
        "formula"
      ],
      "execution_count": null,
      "outputs": [
        {
          "output_type": "execute_result",
          "data": {
            "text/latex": "$\\displaystyle \\lnot \\forall x (P(x) \\wedge (\\exists y (\\lnot P(x, y) \\wedge Q(f(y))) \\rightarrow \\exists z (\\lnot P(x) \\wedge Q(f(x), a, z))))$",
            "text/plain": [
              "Not_FOL(Forall_x(And_FOL(P(x), Implies_FOL(Exists_y(And_FOL(Not_FOL(P(x, y)), Q(f(y)))), Exists_z(And_FOL(Not_FOL(P(x)), Q(f(x), a, z)))))))"
            ]
          },
          "metadata": {
            "tags": []
          },
          "execution_count": 9
        }
      ]
    },
    {
      "cell_type": "markdown",
      "metadata": {
        "id": "zoYWqWNwKcmw"
      },
      "source": [
        "Negation Normal Form"
      ]
    },
    {
      "cell_type": "code",
      "metadata": {
        "colab": {
          "base_uri": "https://localhost:8080/",
          "height": 38
        },
        "id": "wfSBQFpW-QE3",
        "outputId": "e00d1e71-5feb-463a-aad6-70f5f30d0518"
      },
      "source": [
        "formula.nnf = formula.to_nnf()\n",
        "formula.nnf"
      ],
      "execution_count": null,
      "outputs": [
        {
          "output_type": "execute_result",
          "data": {
            "text/latex": "$\\displaystyle \\exists x (\\lnot P(x) \\vee (\\exists y (\\lnot P(x, y) \\wedge Q(f(y))) \\wedge \\forall z (P(x) \\vee \\lnot Q(f(x), a, z))))$",
            "text/plain": [
              "Exists_x(Or_FOL(Not_FOL(P(x)), And_FOL(Exists_y(And_FOL(Not_FOL(P(x, y)), Q(f(y)))), Forall_z(Or_FOL(P(x), Not_FOL(Q(f(x), a, z)))))))"
            ]
          },
          "metadata": {
            "tags": []
          },
          "execution_count": 10
        }
      ]
    },
    {
      "cell_type": "markdown",
      "metadata": {
        "id": "SqOq2_LqE5LL"
      },
      "source": [
        "Prenex Normal Form"
      ]
    },
    {
      "cell_type": "code",
      "metadata": {
        "colab": {
          "base_uri": "https://localhost:8080/",
          "height": 38
        },
        "id": "eHCwQ6Kw-UgY",
        "outputId": "5c6db6b7-2777-4e33-ee4d-36dcff5211fc"
      },
      "source": [
        "formula.pnf = to_pnf(formula.nnf)\n",
        "formula.pnf"
      ],
      "execution_count": null,
      "outputs": [
        {
          "output_type": "execute_result",
          "data": {
            "text/latex": "$\\displaystyle \\exists x (\\exists y (\\forall z (\\lnot P(x) \\vee ((\\lnot P(x, y) \\wedge Q(f(y))) \\wedge (P(x) \\vee \\lnot Q(f(x), a, z))))))$",
            "text/plain": [
              "Exists_x(Exists_y(Forall_z(Or_FOL(Not_FOL(P(x)), And_FOL(And_FOL(Not_FOL(P(x, y)), Q(f(y))), Or_FOL(P(x), Not_FOL(Q(f(x), a, z))))))))"
            ]
          },
          "metadata": {
            "tags": []
          },
          "execution_count": 11
        }
      ]
    },
    {
      "cell_type": "markdown",
      "metadata": {
        "id": "jWRKVia4FD4_"
      },
      "source": [
        "Grounding"
      ]
    },
    {
      "cell_type": "code",
      "metadata": {
        "colab": {
          "base_uri": "https://localhost:8080/",
          "height": 101
        },
        "id": "ch5nd-H8-aya",
        "outputId": "ae9d66de-71cd-478c-a5a8-2b835f9175df"
      },
      "source": [
        "grounding(formula.pnf,[a,b])"
      ],
      "execution_count": null,
      "outputs": [
        {
          "output_type": "execute_result",
          "data": {
            "text/latex": "$\\displaystyle (((\\lnot P(a) \\vee ((\\lnot P(a, a) \\wedge Q(f(a))) \\wedge (P(a) \\vee \\lnot Q(f(a), a, a)))) \\vee (\\lnot P(b) \\vee ((\\lnot P(b, a) \\wedge Q(f(a))) \\wedge (P(b) \\vee \\lnot Q(f(b), a, a))))) \\vee ((\\lnot P(a) \\vee ((\\lnot P(a, b) \\wedge Q(f(b))) \\wedge (P(a) \\vee \\lnot Q(f(a), a, a)))) \\vee (\\lnot P(b) \\vee ((\\lnot P(b, b) \\wedge Q(f(b))) \\wedge (P(b) \\vee \\lnot Q(f(b), a, a)))))) \\wedge (((\\lnot P(a) \\vee ((\\lnot P(a, a) \\wedge Q(f(a))) \\wedge (P(a) \\vee \\lnot Q(f(a), a, b)))) \\vee (\\lnot P(b) \\vee ((\\lnot P(b, a) \\wedge Q(f(a))) \\wedge (P(b) \\vee \\lnot Q(f(b), a, b))))) \\vee ((\\lnot P(a) \\vee ((\\lnot P(a, b) \\wedge Q(f(b))) \\wedge (P(a) \\vee \\lnot Q(f(a), a, b)))) \\vee (\\lnot P(b) \\vee ((\\lnot P(b, b) \\wedge Q(f(b))) \\wedge (P(b) \\vee \\lnot Q(f(b), a, b))))))$",
            "text/plain": [
              "And_FOL(Or_FOL(Or_FOL(Or_FOL(Not_FOL(P(a)), And_FOL(And_FOL(Not_FOL(P(a, a)), Q(f(a))), Or_FOL(P(a), Not_FOL(Q(f(a), a, a))))), Or_FOL(Not_FOL(P(b)), And_FOL(And_FOL(Not_FOL(P(b, a)), Q(f(a))), Or_FOL(P(b), Not_FOL(Q(f(b), a, a)))))), Or_FOL(Or_FOL(Not_FOL(P(a)), And_FOL(And_FOL(Not_FOL(P(a, b)), Q(f(b))), Or_FOL(P(a), Not_FOL(Q(f(a), a, a))))), Or_FOL(Not_FOL(P(b)), And_FOL(And_FOL(Not_FOL(P(b, b)), Q(f(b))), Or_FOL(P(b), Not_FOL(Q(f(b), a, a))))))), Or_FOL(Or_FOL(Or_FOL(Not_FOL(P(a)), And_FOL(And_FOL(Not_FOL(P(a, a)), Q(f(a))), Or_FOL(P(a), Not_FOL(Q(f(a), a, b))))), Or_FOL(Not_FOL(P(b)), And_FOL(And_FOL(Not_FOL(P(b, a)), Q(f(a))), Or_FOL(P(b), Not_FOL(Q(f(b), a, b)))))), Or_FOL(Or_FOL(Not_FOL(P(a)), And_FOL(And_FOL(Not_FOL(P(a, b)), Q(f(b))), Or_FOL(P(a), Not_FOL(Q(f(a), a, b))))), Or_FOL(Not_FOL(P(b)), And_FOL(And_FOL(Not_FOL(P(b, b)), Q(f(b))), Or_FOL(P(b), Not_FOL(Q(f(b), a, b))))))))"
            ]
          },
          "metadata": {
            "tags": []
          },
          "execution_count": 12
        }
      ]
    },
    {
      "cell_type": "markdown",
      "metadata": {
        "id": "EzT8yHN6AqqF"
      },
      "source": [
        "# Grounding: Example in which a quantified variable does not appear in part of the sentence\n",
        "\n",
        "$(\\forall x A(x))\\rightarrow B$\n",
        "\n",
        "does not imply:\n",
        "\n",
        "$\\forall x (A(x)\\rightarrow B).$"
      ]
    },
    {
      "cell_type": "code",
      "metadata": {
        "colab": {
          "base_uri": "https://localhost:8080/",
          "height": 38
        },
        "id": "EoaNL6ORAqMA",
        "outputId": "cf7ca269-be14-4709-874f-403dabe5b553"
      },
      "source": [
        "term1 = Exists(x) (P(x))\n",
        "term2 = Q(a)\n",
        "formula = term1 >> term2\n",
        "formula"
      ],
      "execution_count": 37,
      "outputs": [
        {
          "output_type": "execute_result",
          "data": {
            "text/latex": "$\\displaystyle \\exists x P(x) \\rightarrow Q(a)$",
            "text/plain": [
              "Implies_FOL(Exists_x(P(x)), Q(a))"
            ]
          },
          "metadata": {
            "tags": []
          },
          "execution_count": 37
        }
      ]
    },
    {
      "cell_type": "code",
      "metadata": {
        "colab": {
          "base_uri": "https://localhost:8080/",
          "height": 38
        },
        "id": "jZ4Ka578BvKW",
        "outputId": "c97b7f30-926a-4447-d041-bea1c7846656"
      },
      "source": [
        "formula.nnf = formula.to_nnf()\n",
        "formula.nnf"
      ],
      "execution_count": 38,
      "outputs": [
        {
          "output_type": "execute_result",
          "data": {
            "text/latex": "$\\displaystyle \\forall x \\lnot P(x) \\vee Q(a)$",
            "text/plain": [
              "Or_FOL(Forall_x(Not_FOL(P(x))), Q(a))"
            ]
          },
          "metadata": {
            "tags": []
          },
          "execution_count": 38
        }
      ]
    },
    {
      "cell_type": "code",
      "metadata": {
        "colab": {
          "base_uri": "https://localhost:8080/",
          "height": 38
        },
        "id": "nhp65Y7vC9n5",
        "outputId": "09aa2dc1-7d55-4ba7-b5a9-081aa367f57e"
      },
      "source": [
        "grounding(to_pnf(formula.nnf.args[0]), [a,b]) | Q(a)"
      ],
      "execution_count": 39,
      "outputs": [
        {
          "output_type": "execute_result",
          "data": {
            "text/latex": "$\\displaystyle (\\lnot P(a) \\wedge \\lnot P(b)) \\vee Q(a)$",
            "text/plain": [
              "Or_FOL(And_FOL(Not_FOL(P(a)), Not_FOL(P(b))), Q(a))"
            ]
          },
          "metadata": {
            "tags": []
          },
          "execution_count": 39
        }
      ]
    },
    {
      "cell_type": "markdown",
      "metadata": {
        "id": "_HjcNWluGynM"
      },
      "source": [
        "# Unification"
      ]
    },
    {
      "cell_type": "code",
      "metadata": {
        "colab": {
          "base_uri": "https://localhost:8080/"
        },
        "id": "y1DTOd7mKPB9",
        "outputId": "0e58782d-a202-4618-d7c3-cd722546be48"
      },
      "source": [
        "unification(P(x), P(a))"
      ],
      "execution_count": null,
      "outputs": [
        {
          "output_type": "execute_result",
          "data": {
            "text/plain": [
              "{x: a}"
            ]
          },
          "metadata": {
            "tags": []
          },
          "execution_count": 13
        }
      ]
    },
    {
      "cell_type": "code",
      "metadata": {
        "colab": {
          "base_uri": "https://localhost:8080/"
        },
        "id": "imnZPZTgG2vr",
        "outputId": "c2329dd2-e096-40ae-cf03-bf93d3c2a1fa"
      },
      "source": [
        "unification(P(f(x)), P(y))"
      ],
      "execution_count": null,
      "outputs": [
        {
          "output_type": "execute_result",
          "data": {
            "text/plain": [
              "{y: f(x)}"
            ]
          },
          "metadata": {
            "tags": []
          },
          "execution_count": 14
        }
      ]
    },
    {
      "cell_type": "code",
      "metadata": {
        "colab": {
          "base_uri": "https://localhost:8080/"
        },
        "id": "az9-UtNiKVIs",
        "outputId": "53a098d9-acc0-4195-f8cf-60c8a8a260d2"
      },
      "source": [
        "unification(P(f(x)), P(f(y)))"
      ],
      "execution_count": null,
      "outputs": [
        {
          "output_type": "execute_result",
          "data": {
            "text/plain": [
              "{x: y}"
            ]
          },
          "metadata": {
            "tags": []
          },
          "execution_count": 15
        }
      ]
    },
    {
      "cell_type": "code",
      "metadata": {
        "colab": {
          "base_uri": "https://localhost:8080/"
        },
        "id": "kbMLYR7uO4s8",
        "outputId": "fce38f93-e654-4ba5-f494-7d8936f436b5"
      },
      "source": [
        "unification(g(g(x)),g(y))"
      ],
      "execution_count": null,
      "outputs": [
        {
          "output_type": "execute_result",
          "data": {
            "text/plain": [
              "{y: g(x)}"
            ]
          },
          "metadata": {
            "tags": []
          },
          "execution_count": 16
        }
      ]
    },
    {
      "cell_type": "code",
      "metadata": {
        "colab": {
          "base_uri": "https://localhost:8080/"
        },
        "id": "bMcp5aLMQBgI",
        "outputId": "64bf8b25-f988-4897-cf5c-59fff18832d9"
      },
      "source": [
        "unification(P(a,b,c),P(x,y,z))"
      ],
      "execution_count": null,
      "outputs": [
        {
          "output_type": "execute_result",
          "data": {
            "text/plain": [
              "{x: a, y: b, z: c}"
            ]
          },
          "metadata": {
            "tags": []
          },
          "execution_count": 17
        }
      ]
    },
    {
      "cell_type": "code",
      "metadata": {
        "colab": {
          "base_uri": "https://localhost:8080/"
        },
        "id": "C8imjH9NWz0g",
        "outputId": "cb034ab8-c0ad-45a2-925e-0cbded7ae4ac"
      },
      "source": [
        "unification(P(f(g(x,a)),x),P(z,b))"
      ],
      "execution_count": null,
      "outputs": [
        {
          "output_type": "execute_result",
          "data": {
            "text/plain": [
              "{x: b, z: f(g(x, a))}"
            ]
          },
          "metadata": {
            "tags": []
          },
          "execution_count": 18
        }
      ]
    },
    {
      "cell_type": "code",
      "metadata": {
        "colab": {
          "base_uri": "https://localhost:8080/"
        },
        "id": "g7jCnh1AKT2g",
        "outputId": "cb7f893b-8f91-4c76-faa0-9b15de2d3618"
      },
      "source": [
        "unification(P(f(x)), P(x))"
      ],
      "execution_count": null,
      "outputs": [
        {
          "output_type": "execute_result",
          "data": {
            "text/plain": [
              "{}"
            ]
          },
          "metadata": {
            "tags": []
          },
          "execution_count": 19
        }
      ]
    },
    {
      "cell_type": "code",
      "metadata": {
        "colab": {
          "base_uri": "https://localhost:8080/"
        },
        "id": "LdKbdArzQMoi",
        "outputId": "685641bc-a043-44eb-bbe3-2559e9d91848"
      },
      "source": [
        "unification(P(x,x),P(c,d))"
      ],
      "execution_count": null,
      "outputs": [
        {
          "output_type": "execute_result",
          "data": {
            "text/plain": [
              "{}"
            ]
          },
          "metadata": {
            "tags": []
          },
          "execution_count": 20
        }
      ]
    },
    {
      "cell_type": "markdown",
      "metadata": {
        "id": "F_Xk7fktOm5A"
      },
      "source": [
        "# Resolution"
      ]
    },
    {
      "cell_type": "code",
      "metadata": {
        "colab": {
          "base_uri": "https://localhost:8080/",
          "height": 35
        },
        "id": "x1r3wpsMXYg5",
        "outputId": "90786a88-4b4e-4776-c03e-5f0f051f847d"
      },
      "source": [
        "binary_resolution(Clause(P(x)), Clause(~P(x)))"
      ],
      "execution_count": null,
      "outputs": [
        {
          "output_type": "execute_result",
          "data": {
            "application/vnd.google.colaboratory.intrinsic+json": {
              "type": "string"
            },
            "text/plain": [
              "'Empty Clause'"
            ]
          },
          "metadata": {
            "tags": []
          },
          "execution_count": 21
        }
      ]
    },
    {
      "cell_type": "code",
      "metadata": {
        "id": "vZTVXo9jhjhz",
        "colab": {
          "base_uri": "https://localhost:8080/",
          "height": 35
        },
        "outputId": "eed86573-917f-4449-aa42-5e5ba7cea31e"
      },
      "source": [
        "binary_resolution(Clause(P(x)), Clause(P(x)))"
      ],
      "execution_count": null,
      "outputs": [
        {
          "output_type": "execute_result",
          "data": {
            "application/vnd.google.colaboratory.intrinsic+json": {
              "type": "string"
            },
            "text/plain": [
              "'Binary Resolution does not apply'"
            ]
          },
          "metadata": {
            "tags": []
          },
          "execution_count": 22
        }
      ]
    },
    {
      "cell_type": "code",
      "metadata": {
        "colab": {
          "base_uri": "https://localhost:8080/",
          "height": 38
        },
        "id": "Kf49TEr8hlF-",
        "outputId": "4400d3ce-da1e-458d-8663-58c0bbe89d08"
      },
      "source": [
        "binary_resolution(Clause(S(x) | Q(y)), Clause(P(x) | ~Q(y)))"
      ],
      "execution_count": null,
      "outputs": [
        {
          "output_type": "execute_result",
          "data": {
            "text/latex": "$\\displaystyle Clause\\left(S(x), P(x)\\right)$",
            "text/plain": [
              "Clause(S(x), P(x))"
            ]
          },
          "metadata": {
            "tags": []
          },
          "execution_count": 23
        }
      ]
    },
    {
      "cell_type": "code",
      "metadata": {
        "colab": {
          "base_uri": "https://localhost:8080/",
          "height": 38
        },
        "id": "7wM20GKnhpBE",
        "outputId": "61f7fe8b-4963-4173-8a29-c3ba949a215d"
      },
      "source": [
        "binary_resolution(Clause(S(x) | Q(f(x))), Clause(P(x) | ~Q(y)))"
      ],
      "execution_count": null,
      "outputs": [
        {
          "output_type": "execute_result",
          "data": {
            "text/latex": "$\\displaystyle Clause\\left(S(x), P(x)\\right)$",
            "text/plain": [
              "Clause(S(x), P(x))"
            ]
          },
          "metadata": {
            "tags": []
          },
          "execution_count": 24
        }
      ]
    },
    {
      "cell_type": "code",
      "metadata": {
        "colab": {
          "base_uri": "https://localhost:8080/",
          "height": 38
        },
        "id": "sa6Ob04DDG9Q",
        "outputId": "dba2d7a6-2739-45df-9e4e-1d3db6fb9cca"
      },
      "source": [
        "binary_resolution(Clause(P(x) | S(z) | Q(x) | R(z) |S(f(g(x)))), Clause(R(z) | ~Q(y) | ~R(z)| ~S(z)) )"
      ],
      "execution_count": null,
      "outputs": [
        {
          "output_type": "execute_result",
          "data": {
            "text/latex": "$\\displaystyle Clause\\left(P(x), S(f(g(x))), R(z)\\right)$",
            "text/plain": [
              "Clause(P(x), S(f(g(x))), R(z))"
            ]
          },
          "metadata": {
            "tags": []
          },
          "execution_count": 25
        }
      ]
    }
  ]
}