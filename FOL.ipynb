{
  "nbformat": 4,
  "nbformat_minor": 0,
  "metadata": {
    "colab": {
      "name": "FOL.ipynb",
      "provenance": [],
      "collapsed_sections": []
    },
    "kernelspec": {
      "display_name": "KDM",
      "language": "python",
      "name": "kdm"
    },
    "language_info": {
      "codemirror_mode": {
        "name": "ipython",
        "version": 3
      },
      "file_extension": ".py",
      "mimetype": "text/x-python",
      "name": "python",
      "nbconvert_exporter": "python",
      "pygments_lexer": "ipython3",
      "version": "3.6.6"
    }
  },
  "cells": [
    {
      "cell_type": "markdown",
      "metadata": {
        "id": "ho9a5FRlNmer"
      },
      "source": [
        "# Sympy Expansion with First Order Logic"
      ]
    },
    {
      "cell_type": "code",
      "metadata": {
        "id": "Mx_R7I5m9Z4I"
      },
      "source": [
        "from sympy import cacheit, Symbol\n",
        "from sympy.core.function import Function, UndefinedFunction, Application\n",
        "import itertools\n",
        "\n",
        "'''\n",
        "All classes that require the implementation of arithmentic operators, should\n",
        "derive from class Expr. Expr class is the base class of any algebraic expression.\n",
        "Function is a subclass of Expr.\n",
        "'''\n",
        "\n",
        "class Constant_FOL(Symbol):\n",
        "    is_Constant = True\n",
        "\n",
        "\n",
        "class Variable_FOL(Symbol):\n",
        "    is_Constant = False\n",
        "\n",
        "\n",
        "class FunctionalSymbol(Function):\n",
        "    def __new__(cls, *args, **options):\n",
        "        if cls is FunctionalSymbol:\n",
        "            # to make the object callable\n",
        "            options['bases'] = (AppliedFunctionalSymbol,)\n",
        "            # a functional symbol is considered as an UndefinedFunction\n",
        "            fun_symbol = UndefinedFunction(*args, **options)\n",
        "            return fun_symbol\n",
        "        return super(FunctionalSymbol, cls).__new__(cls, *args, **options)\n",
        "\n",
        "    def ground(self, var_name, constant):\n",
        "        fun = FunctionalSymbol(self.name)\n",
        "        variables = []\n",
        "        # len(self.args) = arity of the functional symbol\n",
        "        for i in range(0, len(self.args)):\n",
        "          if self.args[i].is_Symbol and self.args[i].name == var_name:\n",
        "            variables.append(constant)\n",
        "          elif self.args[i].is_Symbol:\n",
        "            variables.append(self.args[i])\n",
        "          else:\n",
        "            variables.append(self.args[i].ground(var_name, constant))\n",
        "        return fun(*variables)\n",
        "\n",
        "\n",
        "class AppliedFunctionalSymbol(FunctionalSymbol):\n",
        "    \"\"\"\n",
        "    Base class for expressions resulting from the application of a functional\n",
        "    symbol.\n",
        "    \"\"\"\n",
        "    pass\n",
        "\n",
        "\n",
        "class Formula(Function):\n",
        "    is_Predicate = False\n",
        "    is_Quantifier = False\n",
        "    \n",
        "    # redefinition of and\n",
        "    def __and__(self, other):\n",
        "        \"\"\"Overloading for &.\"\"\"\n",
        "        return And_FOL(self, other)\n",
        "\n",
        "    # redefinition of or\n",
        "    def __or__(self, other):\n",
        "        \"\"\"Overloading for |.\"\"\"\n",
        "        return Or_FOL(self, other)\n",
        "\n",
        "    # redefinition of not\n",
        "    def __invert__(self):\n",
        "        \"\"\"Overloading for ~.\"\"\"\n",
        "        return Not_FOL(self)\n",
        "\n",
        "    # redefinition of implies\n",
        "    def __rshift__(self, other):\n",
        "        \"\"\"Overloading for >>.\"\"\"\n",
        "        return Implies_FOL(self, other)\n",
        "\n",
        "    # redefinition of is implied\n",
        "    def __lshift__(self, other):\n",
        "        \"\"\"Overloading for <<.\"\"\"\n",
        "        return Implies_FOL(other, self)\n",
        "\n",
        "    # reverse operations\n",
        "    __rand__ = __and__\n",
        "    __ror__ = __or__\n",
        "    __rrshift__ = __lshift__\n",
        "    __rlshift__ = __rshift__\n",
        "\n",
        "\n",
        "\"\"\"\n",
        "func returns the class name.\n",
        "def func(self):\n",
        "  return self.__class__\n",
        "\"\"\"\n",
        "\n",
        "class LogicalConnective(Formula):\n",
        "    \n",
        "    # In NNF the logical connective 'not' must only be in front of predicates.\n",
        "    # Furthermore, the logical connective 'implies' should be expressed as a\n",
        "    # conjunction.\n",
        "    def to_nnf(self):\n",
        "        # every argument of the formula must have its own to_nnf() method\n",
        "        return self.func(*[a.to_nnf() for a in self.args])\n",
        "\n",
        "\n",
        "class And_FOL(LogicalConnective):\n",
        "\n",
        "    # not(A and B) = not A or not B\n",
        "    def _apply_not(self):\n",
        "        return Or_FOL(self.args[0]._apply_not(), self.args[1]._apply_not())\n",
        "    \n",
        "    def _latex(self,printer,*args):        \n",
        "        if self.args[0].is_Predicate or self.args[0].is_Quantifier or self.args[0].func == Not_FOL:\n",
        "            if self.args[1].is_Predicate or self.args[1].is_Quantifier or self.args[1].func == Not_FOL:\n",
        "                return r'%s \\wedge %s'%tuple([self.args[0]._latex(printer,*args), self.args[1]._latex(printer,*args)])\n",
        "            else:\n",
        "                return r'%s \\wedge (%s)'%tuple([self.args[0]._latex(printer,*args), self.args[1]._latex(printer,*args)])\n",
        "        elif self.args[1].is_Predicate or self.args[1].is_Quantifier or self.args[1].func == Not_FOL:\n",
        "            return r'(%s) \\wedge %s'%tuple([self.args[0]._latex(printer,*args), self.args[1]._latex(printer,*args)])\n",
        "\n",
        "        return r'(%s) \\wedge (%s)'%tuple([self.args[0]._latex(printer,*args), self.args[1]._latex(printer,*args)])\n",
        "    \n",
        "    def ground(self, var_name, constant):\n",
        "        return And_FOL(self.args[0].ground(var_name, constant),self.args[1].ground(var_name, constant))\n",
        "\n",
        "\n",
        "class Or_FOL(LogicalConnective):\n",
        "\n",
        "    # not(A or B) = not A and not B\n",
        "    def _apply_not(self):\n",
        "        return And_FOL(self.args[0]._apply_not(), self.args[1]._apply_not())\n",
        "    \n",
        "    def _latex(self,printer,*args):\n",
        "        if self.args[0].is_Predicate or self.args[0].is_Quantifier or self.args[0].func == Not_FOL:\n",
        "            if self.args[1].is_Predicate or self.args[1].is_Quantifier or self.args[1].func == Not_FOL:\n",
        "                return r'%s \\vee %s'%tuple([self.args[0]._latex(printer,*args), self.args[1]._latex(printer,*args)])\n",
        "            else:\n",
        "                return r'%s \\vee (%s)'%tuple([self.args[0]._latex(printer,*args), self.args[1]._latex(printer,*args)])\n",
        "        elif self.args[1].is_Predicate or self.args[1].is_Quantifier or self.args[1].func == Not_FOL:\n",
        "            return r'(%s) \\vee %s'%tuple([self.args[0]._latex(printer,*args), self.args[1]._latex(printer,*args)])\n",
        "\n",
        "        return r'(%s) \\vee (%s)'%tuple([self.args[0]._latex(printer,*args), self.args[1]._latex(printer,*args)])\n",
        "\n",
        "    def ground(self, var_name, constant):\n",
        "        return Or_FOL(self.args[0].ground(var_name, constant),self.args[1].ground(var_name, constant))\n",
        "    \n",
        "    \n",
        "class Not_FOL(LogicalConnective):\n",
        "\n",
        "    def to_nnf(self):\n",
        "        if self.args[0].is_Predicate:\n",
        "            return self\n",
        "        # if we have a formula preceeded by the not operator, then we call ._apply_not()\n",
        "        neg = self.args[0]._apply_not()\n",
        "        return neg.to_nnf()\n",
        "    \n",
        "    # not (not A) = A\n",
        "    def _apply_not(self):\n",
        "        return self.args[0]\n",
        "\n",
        "    def _latex(self,printer,*args):\n",
        "        if self.args[0].is_Predicate or self.args[0].is_Quantifier or self.args[0].func == Not_FOL:\n",
        "            return r'\\lnot %s'%tuple([self.args[0]._latex(printer,*args)])\n",
        "        return r'\\lnot (%s)'%tuple([self.args[0]._latex(printer,*args)])\n",
        "\n",
        "    def ground(self, var_name, constant):\n",
        "        return Not_FOL(self.args[0].ground(var_name, constant))\n",
        "\n",
        "\n",
        "class Implies_FOL(LogicalConnective):\n",
        "\n",
        "    # A -> B = not A or B\n",
        "    def to_nnf(self):\n",
        "        return Or_FOL(self.args[0]._apply_not().to_nnf(), self.args[1].to_nnf())\n",
        "\n",
        "    # not (A -> B) = A and not B\n",
        "    def _apply_not(self):\n",
        "        return And_FOL(self.args[0], self.args[1]._apply_not())\n",
        "    \n",
        "    def _latex(self,printer,*args):\n",
        "        if self.args[0].is_Predicate or self.args[0].is_Quantifier or self.args[0].func == Not_FOL:\n",
        "            if self.args[1].is_Predicate or self.args[1].is_Quantifier or self.args[1].func == Not_FOL:\n",
        "                return r'%s \\rightarrow %s'%tuple([self.args[0]._latex(printer,*args), self.args[1]._latex(printer,*args)])\n",
        "            else:\n",
        "                return r'%s \\rightarrow (%s)'%tuple([self.args[0]._latex(printer,*args), self.args[1]._latex(printer,*args)])\n",
        "        elif self.args[1].is_Predicate or self.args[1].is_Quantifier or self.args[1].func == Not_FOL:\n",
        "            return r'(%s) \\rightarrow %s'%tuple([self.args[0]._latex(printer,*args), self.args[1]._latex(printer,*args)])\n",
        "        return r'(%s) \\rightarrow (%s)'%tuple([self.args[0]._latex(printer,*args), self.args[1]._latex(printer,*args)])\n",
        "\n",
        "    def ground(self, var_name, constant):\n",
        "        return Implies_FOL(self.args[0].ground(var_name, constant),self.args[1].ground(var_name, constant))\n",
        "\n",
        "\n",
        "class IsEquivalent_FOL(LogicalConnective):\n",
        "\n",
        "    # A <-> B = (A->B) and (B->A)\n",
        "    def to_nnf(self):\n",
        "        return And_FOL(Implies_FOL(self.args[0], self.args[1]).to_nnf(), Implies_FOL(self.args[1], self.args[0]).to_nnf())\n",
        "\n",
        "    # not (A <-> B) = not(A->B) or not(B->A)\n",
        "    def _apply_not(self):\n",
        "        return Or_FOL(Implies_FOL(self.args[0], self.args[1])._apply_not(), Implies_FOL(self.args[1], self.args[0])._apply_not())\n",
        "    \n",
        "    def _latex(self,printer,*args):\n",
        "        if self.args[0].is_Predicate or self.args[0].is_Quantifier or self.args[0].func == Not_FOL:\n",
        "            if self.args[1].is_Predicate or self.args[1].is_Quantifier or self.args[1].func == Not_FOL:\n",
        "                return r'%s \\equiv %s'%tuple([self.args[0]._latex(printer,*args), self.args[1]._latex(printer,*args)])\n",
        "            else:\n",
        "                return r'%s \\equiv (%s)'%tuple([self.args[0]._latex(printer,*args), self.args[1]._latex(printer,*args)])\n",
        "        elif self.args[1].is_Predicate or self.args[1].is_Quantifier or self.args[1].func == Not_FOL:\n",
        "            return r'(%s) \\equiv %s'%tuple([self.args[0]._latex(printer,*args), self.args[1]._latex(printer,*args)])\n",
        "        return r'(%s) \\equiv (%s)'%tuple([self.args[0]._latex(printer,*args), self.args[1]._latex(printer,*args)])\n",
        "\n",
        "    def ground(self, var_name, constant):\n",
        "        return IsEquivalent_FOL(self.args[0].ground(var_name, constant), self.args[1].ground(var_name, constant))\n",
        "\n",
        "\n",
        "class Predicate(Formula):\n",
        "    is_Atom = True\n",
        "    is_Predicate = True\n",
        "\n",
        "    def __new__(cls, *args, **options):\n",
        "      if cls is Predicate:\n",
        "          options['bases'] = (AppliedPredicate,)\n",
        "          # a predicate is considered as an UndefinedFunction\n",
        "          pred = UndefinedFunction(*args, **options)\n",
        "          return pred\n",
        "      return super(Predicate, cls).__new__(cls, *args, **options)\n",
        "     \n",
        "    def to_nnf(self):\n",
        "        return self\n",
        "\n",
        "    def _apply_not(self):\n",
        "        return Not_FOL(self)\n",
        "\n",
        "    def _latex(self,printer,*args):\n",
        "        return r'%s'% str(self)\n",
        "    \n",
        "    def ground(self, var_name, constant):\n",
        "\n",
        "        # len(self.args) = arity of the predicate\n",
        "        pred = Predicate(self.name)\n",
        "        variables = []\n",
        "        for i in range(0,len(self.args)):\n",
        "          if self.args[i].name == var_name:\n",
        "            variables.append(constant)\n",
        "          else:\n",
        "            if self.args[i].is_Symbol:\n",
        "              variables.append(self.args[i])\n",
        "            else:\n",
        "              variables.append(self.args[i].ground(var_name,constant))\n",
        "        return pred(*variables)\n",
        "\n",
        "\n",
        "class AppliedPredicate(Predicate):\n",
        "  \"\"\"\n",
        "  Base class for expressions resulting from the application of a predicate.\n",
        "  \"\"\"\n",
        "  pass\n",
        "\n",
        "\n",
        "class Quantifier(Formula):\n",
        "    is_Quantifier = True\n",
        "    is_Forall = False\n",
        "    is_Exists = False\n",
        "    symbol = None\n",
        "\n",
        "    def __new__(cls, *args, **options):\n",
        "        if cls in (Forall, Exists):\n",
        "            symbol = args[0] # variable which is not free\n",
        "            argslist = list(args)\n",
        "            argslist[0] = cls.name + symbol.name\n",
        "            args = tuple(argslist)\n",
        "            options['bases'] = (cls._getAppliedClass(),)\n",
        "            quantifier = UndefinedFunction(*args, **options)\n",
        "            quantifier.symbol = symbol\n",
        "            return quantifier\n",
        "        return super(Quantifier, cls).__new__(cls, *args, **options)\n",
        "\n",
        "    # quantifier.formula\n",
        "    @property\n",
        "    def formula(self):\n",
        "        return self.args[0]\n",
        "\n",
        "    def to_nnf(self):\n",
        "        return self.func(self.formula.to_nnf())\n",
        "\n",
        "class Forall(Quantifier):\n",
        "    is_Forall = True\n",
        "    name = 'Forall_'\n",
        "    \n",
        "    # not forall = exist not\n",
        "    def _apply_not(self):\n",
        "        exists = Exists(self.symbol)\n",
        "        return exists(self.formula._apply_not())\n",
        "\n",
        "    # it works in the same way for any object of the Forall class\n",
        "    @staticmethod\n",
        "    def _getAppliedClass():\n",
        "        return AppliedForall\n",
        "    \n",
        "    def _latex(self,printer,*args):\n",
        "        if self.formula.is_Predicate or self.args[0].func == Not_FOL:\n",
        "            return r'\\forall %s %s'%tuple([printer._print(self.symbol,*args), self.formula._latex(printer,*args)])\n",
        "        return r'\\forall %s (%s)'%tuple([printer._print(self.symbol,*args), self.formula._latex(printer,*args)])\n",
        "    \n",
        "    def ground(self, set_const):\n",
        "        formula = self.formula.ground(self.symbol.name, set_const[0])\n",
        "        for i in range(1, len(set_const)):\n",
        "          formula = And_FOL(formula, self.formula.ground(self.symbol.name, set_const[i]))\n",
        "        return formula\n",
        "\n",
        "\n",
        "class AppliedForall(Forall):\n",
        "  \"\"\"\n",
        "  Base class for expressions resulting from the application of a for all.\n",
        "  \"\"\"\n",
        "  pass\n",
        "\n",
        "\n",
        "class Exists(Quantifier):\n",
        "    is_Exists = True\n",
        "    name = 'Exists_'\n",
        "\n",
        "    # not exists = forall not\n",
        "    def _apply_not(self):\n",
        "        forall = Forall(self.symbol)\n",
        "        return forall(self.formula._apply_not())\n",
        "\n",
        "    # it works in the same way for any object of the Exists class\n",
        "    @staticmethod\n",
        "    def _getAppliedClass():\n",
        "        return AppliedExists\n",
        "    \n",
        "    def _latex(self,printer,*args):\n",
        "        if self.formula.is_Predicate or self.args[0].func == Not_FOL:\n",
        "            return r'\\exists %s %s'%tuple([printer._print(self.symbol,*args), self.formula._latex(printer,*args)])\n",
        "        return r'\\exists %s (%s)'%tuple([printer._print(self.symbol,*args), self.formula._latex(printer,*args)])\n",
        "    \n",
        "    def ground(self, set_const):\n",
        "        formula = self.formula.ground(self.symbol.name, set_const[0])\n",
        "        for i in range(1, len(set_const)):\n",
        "          formula = Or_FOL(formula, self.formula.ground(self.symbol.name, set_const[i]))\n",
        "        return formula\n",
        "\n",
        "\n",
        "class AppliedExists(Exists):\n",
        "  \"\"\"\n",
        "  Base class for expressions resulting from the application of an exists.\n",
        "  \"\"\"\n",
        "  pass\n",
        "\n",
        "\n",
        "def formula_to_list(formula, delimiter):\n",
        "    if isinstance(formula, delimiter):\n",
        "        l = []\n",
        "        l.extend(formula_to_list(formula.args[0], delimiter))\n",
        "        l.extend(formula_to_list(formula.args[1], delimiter))\n",
        "        return l\n",
        "    else:\n",
        "        return [formula]\n",
        "\n",
        "def extract_quantifiers(formula):\n",
        "    if formula.is_Predicate:\n",
        "        return formula, []\n",
        "    func = formula.func\n",
        "    if formula.is_Quantifier:\n",
        "        # for example: fun = Exists_x\n",
        "        quant = [func]\n",
        "        f, q = extract_quantifiers(formula.formula)\n",
        "        quant.extend(q)\n",
        "        return f, quant\n",
        "    else:\n",
        "        formulas = []\n",
        "        args = formula.args\n",
        "        quant = [] \n",
        "        for arg in args:\n",
        "            f, q = extract_quantifiers(arg)\n",
        "            formulas.append(f)\n",
        "            quant.extend(q)\n",
        "        return func(*formulas), quant\n",
        "\n",
        "\n",
        "class Clause(Application):\n",
        "    _formula = None\n",
        "\n",
        "    def __new__(cls, *args, **kwargs):\n",
        "        args_list = list(args)\n",
        "        if([] in args_list):\n",
        "            args_list.remove([])\n",
        "        if len(args_list) == 1 and not args_list[0].is_Predicate and args_list[0].func is not Not_FOL:\n",
        "            f,_ = extract_quantifiers(args_list[0])\n",
        "            args = formula_to_list(f, Or_FOL)\n",
        "        return super(Clause, cls).__new__(cls, *args, **kwargs)\n",
        "\n",
        "    def substitute(self, sub):\n",
        "        f = self.formula.xreplace(sub)\n",
        "        return Clause(f)\n",
        "\n",
        "    @property\n",
        "    def list(self):\n",
        "        return list(self.args).copy()\n",
        "\n",
        "    @property\n",
        "    def formula(self):\n",
        "        if self._formula is None:\n",
        "            self._to_formula()\n",
        "\n",
        "        return self._formula\n",
        "\n",
        "    def _to_formula(self):\n",
        "        f = None\n",
        "        for a in self.args:\n",
        "            if f is None:\n",
        "                f = a\n",
        "            else:\n",
        "                f = Or_FOL(f, a)\n",
        "\n",
        "        for s in self._get_symbols(f).keys():\n",
        "            f = Forall(s)(f)\n",
        "\n",
        "        self._formula = f\n",
        "\n",
        "    @classmethod\n",
        "    def _get_symbols(cls, e):\n",
        "        if e.func is Symbol and not e.is_Constant:\n",
        "            return {e: True}\n",
        "\n",
        "        dic = {}\n",
        "        for a in e.args:\n",
        "            dic.update(cls._get_symbols(a))\n",
        "        return dic"
      ],
      "execution_count": 1,
      "outputs": []
    },
    {
      "cell_type": "markdown",
      "metadata": {
        "id": "Z4bwP-gwN3Pw"
      },
      "source": [
        "# FOL Algorithms"
      ]
    },
    {
      "cell_type": "code",
      "metadata": {
        "id": "cczJAyEpN1U7"
      },
      "source": [
        "# ---------\n",
        "# GROUNDING\n",
        "# ---------\n",
        "\n",
        "# Prenex Normal Form\n",
        "def to_pnf(formula):\n",
        "    # Assume to have a different symbol for each quantifier\n",
        "    pnf_formula, quantifiers = extract_quantifiers(formula)\n",
        "    quantifiers.reverse()\n",
        "    for q in quantifiers:\n",
        "        pnf_formula = q(pnf_formula)\n",
        "    return pnf_formula\n",
        "\n",
        "\n",
        "def grounding(formula, constants_set):\n",
        "    # Assume to have the formula in NNF\n",
        "    # Assume to have a different symbol for each quantifier\n",
        "    formula, quantifiers = extract_quantifiers(formula)\n",
        "    for quant in quantifiers:\n",
        "      formula = quant(formula).ground(constants_set)\n",
        "    return formula\n",
        "\n",
        "\n",
        "# -----------\n",
        "# UNIFICATION\n",
        "# -----------\n",
        "\n",
        "def unification(first_atom, second_atom):\n",
        "    if first_atom.func != second_atom.func:\n",
        "      return {}\n",
        "    if len(first_atom.args) != len(second_atom.args):\n",
        "      return {}\n",
        "    sub = {}\n",
        "    for i in range(0, len(first_atom.args)):\n",
        "        s = terms_unification(first_atom.args[i], second_atom.args[i], sub)\n",
        "        if s is None:\n",
        "            return {}\n",
        "        else:\n",
        "            sub.update(s)\n",
        "    return sub\n",
        "\n",
        "\n",
        "def terms_unification(first_term, second_term, sub):\n",
        "    # apply the previous transformations to the 2 terms if needed\n",
        "    if first_term in sub.keys():\n",
        "      first_term = sub.get(first_term)\n",
        "    if second_term in sub.keys():\n",
        "      second_term = sub.get(second_term)\n",
        "    if first_term.is_Symbol and second_term.is_Symbol and first_term.name == second_term.name:\n",
        "        return sub\n",
        "   \n",
        "    if first_term.is_Symbol and not first_term.is_Constant:\n",
        "      # first_term is variable\n",
        "      if second_term.is_Symbol or not is_variable_in_term(second_term, first_term):\n",
        "          sub.update({first_term: second_term})\n",
        "          return sub\n",
        "    elif second_term.is_Symbol and not second_term.is_Constant:\n",
        "      # first_term is not variable and second_term is variable\n",
        "      if first_term.is_Symbol or not is_variable_in_term(first_term, second_term):\n",
        "          sub.update({second_term: first_term})\n",
        "          return sub\n",
        "\n",
        "    if first_term.is_Function and second_term.is_Function:\n",
        "      if first_term.func is second_term.func:\n",
        "          for i in range(0, len(first_term.args)):\n",
        "              s = terms_unification(first_term.args[i], second_term.args[i], sub)\n",
        "              if s is None:\n",
        "                  return None\n",
        "              else:\n",
        "                  sub.update(s)\n",
        "          return sub\n",
        "    # in all the other cases\n",
        "    return None\n",
        "\n",
        "\n",
        "def is_variable_in_term(term, var):\n",
        "    if term.is_Symbol:\n",
        "        if term.is_Constant:\n",
        "            return False\n",
        "        else:\n",
        "            return term is var\n",
        "    res = False\n",
        "    for a in term.args:\n",
        "        res = res | is_variable_in_term(a, var)\n",
        "    return res\n",
        "\n",
        "# ----------------------\n",
        "# BINARY RESOLUTION RULE\n",
        "# ----------------------\n",
        "\n",
        "\n",
        "def binary_res(clause1, clause2):\n",
        "    cl1 = clause1.list\n",
        "    cl2 = clause2.list\n",
        "    sub = None\n",
        "\n",
        "    for l1, l2 in itertools.product(cl1, cl2):\n",
        "        if l1.func is Not_FOL and issubclass(l2.func, Predicate):\n",
        "            sub = unification(l1.args[0], l2)\n",
        "\n",
        "        if l2.func is Not_FOL and issubclass(l1.func, Predicate):\n",
        "            sub = unification(l2.args[0], l1)\n",
        "\n",
        "        if sub is not None:\n",
        "            cl1.remove(l1)\n",
        "            cl2.remove(l2)\n",
        "            break\n",
        "\n",
        "    if sub is None:\n",
        "        return None\n",
        "\n",
        "    if (len(cl1) == 0 and len(cl2) == 0):\n",
        "        return False\n",
        "\n",
        "    cl1.extend(cl2)\n",
        "\n",
        "    return Clause(*cl1).substitute(sub)\n"
      ],
      "execution_count": 2,
      "outputs": []
    },
    {
      "cell_type": "code",
      "metadata": {
        "id": "ibut9zlY9Z4R"
      },
      "source": [
        "from sympy.core import Function, Symbol\n",
        "\n",
        "x = Variable_FOL('x')\n",
        "y = Variable_FOL('y')\n",
        "z = Variable_FOL('z')\n",
        "\n",
        "a = Constant_FOL('a')\n",
        "b = Constant_FOL('b')\n",
        "c = Constant_FOL('c')\n",
        "d = Constant_FOL('d')\n",
        "\n",
        "f = FunctionalSymbol('f')\n",
        "g = FunctionalSymbol('g')\n",
        "h = FunctionalSymbol('h')\n",
        "\n",
        "P = Predicate('P')\n",
        "Q = Predicate('Q')\n",
        "R = Predicate('R')\n"
      ],
      "execution_count": 3,
      "outputs": []
    },
    {
      "cell_type": "markdown",
      "metadata": {
        "id": "uVgOx2fDDMI5"
      },
      "source": [
        "# Grounding: Simple Example"
      ]
    },
    {
      "cell_type": "code",
      "metadata": {
        "colab": {
          "base_uri": "https://localhost:8080/",
          "height": 38
        },
        "id": "2JjrSkWQDk7A",
        "outputId": "a39c7f82-b5a3-4dcd-e707-668d8bdaa7d0"
      },
      "source": [
        "formula = ~Forall(x) (P(x) & Exists(y)(P(y)))\n",
        "formula"
      ],
      "execution_count": 4,
      "outputs": [
        {
          "output_type": "execute_result",
          "data": {
            "text/latex": "$\\displaystyle \\lnot \\forall x (P(x) \\wedge \\exists y P(y))$",
            "text/plain": [
              "Not_FOL(Forall_x(And_FOL(P(x), Exists_y(P(y)))))"
            ]
          },
          "metadata": {
            "tags": []
          },
          "execution_count": 4
        }
      ]
    },
    {
      "cell_type": "markdown",
      "metadata": {
        "id": "iPD-vfvfDZYQ"
      },
      "source": [
        "Negation Normal Form\n"
      ]
    },
    {
      "cell_type": "code",
      "metadata": {
        "colab": {
          "base_uri": "https://localhost:8080/",
          "height": 38
        },
        "id": "tyGxqtyd_C5Z",
        "outputId": "47a79534-2867-4cb7-8d04-be4c9c9ef437"
      },
      "source": [
        "formula.nnf = formula.to_nnf()\n",
        "formula.nnf"
      ],
      "execution_count": 5,
      "outputs": [
        {
          "output_type": "execute_result",
          "data": {
            "text/latex": "$\\displaystyle \\exists x (\\lnot P(x) \\vee \\forall y \\lnot P(y))$",
            "text/plain": [
              "Exists_x(Or_FOL(Not_FOL(P(x)), Forall_y(Not_FOL(P(y)))))"
            ]
          },
          "metadata": {
            "tags": []
          },
          "execution_count": 5
        }
      ]
    },
    {
      "cell_type": "markdown",
      "metadata": {
        "id": "P1KJ9YuTDuZ0"
      },
      "source": [
        "Prenex Normal Form"
      ]
    },
    {
      "cell_type": "code",
      "metadata": {
        "colab": {
          "base_uri": "https://localhost:8080/",
          "height": 38
        },
        "id": "2eYk-sqT_e9E",
        "outputId": "e2be09a6-db40-409a-80c5-51441a26a35e"
      },
      "source": [
        "formula.pnf = to_pnf(formula.nnf)\n",
        "formula.pnf"
      ],
      "execution_count": 6,
      "outputs": [
        {
          "output_type": "execute_result",
          "data": {
            "text/latex": "$\\displaystyle \\exists x (\\forall y (\\lnot P(x) \\vee \\lnot P(y)))$",
            "text/plain": [
              "Exists_x(Forall_y(Or_FOL(Not_FOL(P(x)), Not_FOL(P(y)))))"
            ]
          },
          "metadata": {
            "tags": []
          },
          "execution_count": 6
        }
      ]
    },
    {
      "cell_type": "markdown",
      "metadata": {
        "id": "I_7RF3iUD0SA"
      },
      "source": [
        "Grounding"
      ]
    },
    {
      "cell_type": "code",
      "metadata": {
        "colab": {
          "base_uri": "https://localhost:8080/",
          "height": 38
        },
        "id": "r-n089vG_mit",
        "outputId": "549614bf-f4ff-4a6d-c1e6-e0a1d32a2b10"
      },
      "source": [
        "Delta = [a,b]\n",
        "grounding(formula.pnf,Delta)"
      ],
      "execution_count": 7,
      "outputs": [
        {
          "output_type": "execute_result",
          "data": {
            "text/latex": "$\\displaystyle ((\\lnot P(a) \\vee \\lnot P(a)) \\vee (\\lnot P(b) \\vee \\lnot P(a))) \\wedge ((\\lnot P(a) \\vee \\lnot P(b)) \\vee (\\lnot P(b) \\vee \\lnot P(b)))$",
            "text/plain": [
              "And_FOL(Or_FOL(Or_FOL(Not_FOL(P(a)), Not_FOL(P(a))), Or_FOL(Not_FOL(P(b)), Not_FOL(P(a)))), Or_FOL(Or_FOL(Not_FOL(P(a)), Not_FOL(P(b))), Or_FOL(Not_FOL(P(b)), Not_FOL(P(b)))))"
            ]
          },
          "metadata": {
            "tags": []
          },
          "execution_count": 7
        }
      ]
    },
    {
      "cell_type": "markdown",
      "metadata": {
        "id": "56fxeAIpEMdZ"
      },
      "source": [
        "# Grounding: More Complex Example"
      ]
    },
    {
      "cell_type": "code",
      "metadata": {
        "colab": {
          "base_uri": "https://localhost:8080/",
          "height": 38
        },
        "id": "KZOOsEaDEVL-",
        "outputId": "c72c0353-7ae6-40e0-8c4e-c69376c0d1b4"
      },
      "source": [
        "formula = ~Forall(x) (P(x) & (Exists (y) (~P(x,y) & Q(f(y))) >> Exists (z) (~P(x) & Q(f(x),a,z))))\n",
        "formula"
      ],
      "execution_count": 8,
      "outputs": [
        {
          "output_type": "execute_result",
          "data": {
            "text/latex": "$\\displaystyle \\lnot \\forall x (P(x) \\wedge (\\exists y (\\lnot P(x, y) \\wedge Q(f(y))) \\rightarrow \\exists z (\\lnot P(x) \\wedge Q(f(x), a, z))))$",
            "text/plain": [
              "Not_FOL(Forall_x(And_FOL(P(x), Implies_FOL(Exists_y(And_FOL(Not_FOL(P(x, y)), Q(f(y)))), Exists_z(And_FOL(Not_FOL(P(x)), Q(f(x), a, z)))))))"
            ]
          },
          "metadata": {
            "tags": []
          },
          "execution_count": 8
        }
      ]
    },
    {
      "cell_type": "markdown",
      "metadata": {
        "id": "zoYWqWNwKcmw"
      },
      "source": [
        "Negation Normal Form"
      ]
    },
    {
      "cell_type": "code",
      "metadata": {
        "colab": {
          "base_uri": "https://localhost:8080/",
          "height": 38
        },
        "id": "wfSBQFpW-QE3",
        "outputId": "a8fdfa66-dea4-4db6-9e06-15f190dd7e30"
      },
      "source": [
        "formula.nnf = formula.to_nnf()\n",
        "formula.nnf"
      ],
      "execution_count": 9,
      "outputs": [
        {
          "output_type": "execute_result",
          "data": {
            "text/latex": "$\\displaystyle \\exists x (\\lnot P(x) \\vee (\\exists y (\\lnot P(x, y) \\wedge Q(f(y))) \\wedge \\forall z (P(x) \\vee \\lnot Q(f(x), a, z))))$",
            "text/plain": [
              "Exists_x(Or_FOL(Not_FOL(P(x)), And_FOL(Exists_y(And_FOL(Not_FOL(P(x, y)), Q(f(y)))), Forall_z(Or_FOL(P(x), Not_FOL(Q(f(x), a, z)))))))"
            ]
          },
          "metadata": {
            "tags": []
          },
          "execution_count": 9
        }
      ]
    },
    {
      "cell_type": "markdown",
      "metadata": {
        "id": "SqOq2_LqE5LL"
      },
      "source": [
        "Prenex Normal Form"
      ]
    },
    {
      "cell_type": "code",
      "metadata": {
        "colab": {
          "base_uri": "https://localhost:8080/",
          "height": 38
        },
        "id": "eHCwQ6Kw-UgY",
        "outputId": "e4c746cc-f9b6-4bad-a2f9-31be0a85b9ce"
      },
      "source": [
        "formula.pnf = to_pnf(formula.nnf)\n",
        "formula.pnf"
      ],
      "execution_count": 10,
      "outputs": [
        {
          "output_type": "execute_result",
          "data": {
            "text/latex": "$\\displaystyle \\exists x (\\exists y (\\forall z (\\lnot P(x) \\vee ((\\lnot P(x, y) \\wedge Q(f(y))) \\wedge (P(x) \\vee \\lnot Q(f(x), a, z))))))$",
            "text/plain": [
              "Exists_x(Exists_y(Forall_z(Or_FOL(Not_FOL(P(x)), And_FOL(And_FOL(Not_FOL(P(x, y)), Q(f(y))), Or_FOL(P(x), Not_FOL(Q(f(x), a, z))))))))"
            ]
          },
          "metadata": {
            "tags": []
          },
          "execution_count": 10
        }
      ]
    },
    {
      "cell_type": "markdown",
      "metadata": {
        "id": "jWRKVia4FD4_"
      },
      "source": [
        "Grounding"
      ]
    },
    {
      "cell_type": "code",
      "metadata": {
        "colab": {
          "base_uri": "https://localhost:8080/",
          "height": 101
        },
        "id": "ch5nd-H8-aya",
        "outputId": "9747ca91-777a-4305-8cbb-c3457ab1eead"
      },
      "source": [
        "grounding(formula.pnf,[a,b])"
      ],
      "execution_count": 11,
      "outputs": [
        {
          "output_type": "execute_result",
          "data": {
            "text/latex": "$\\displaystyle (((\\lnot P(a) \\vee ((\\lnot P(a, a) \\wedge Q(f(a))) \\wedge (P(a) \\vee \\lnot Q(f(a), a, a)))) \\vee (\\lnot P(b) \\vee ((\\lnot P(b, a) \\wedge Q(f(a))) \\wedge (P(b) \\vee \\lnot Q(f(b), a, a))))) \\vee ((\\lnot P(a) \\vee ((\\lnot P(a, b) \\wedge Q(f(b))) \\wedge (P(a) \\vee \\lnot Q(f(a), a, a)))) \\vee (\\lnot P(b) \\vee ((\\lnot P(b, b) \\wedge Q(f(b))) \\wedge (P(b) \\vee \\lnot Q(f(b), a, a)))))) \\wedge (((\\lnot P(a) \\vee ((\\lnot P(a, a) \\wedge Q(f(a))) \\wedge (P(a) \\vee \\lnot Q(f(a), a, b)))) \\vee (\\lnot P(b) \\vee ((\\lnot P(b, a) \\wedge Q(f(a))) \\wedge (P(b) \\vee \\lnot Q(f(b), a, b))))) \\vee ((\\lnot P(a) \\vee ((\\lnot P(a, b) \\wedge Q(f(b))) \\wedge (P(a) \\vee \\lnot Q(f(a), a, b)))) \\vee (\\lnot P(b) \\vee ((\\lnot P(b, b) \\wedge Q(f(b))) \\wedge (P(b) \\vee \\lnot Q(f(b), a, b))))))$",
            "text/plain": [
              "And_FOL(Or_FOL(Or_FOL(Or_FOL(Not_FOL(P(a)), And_FOL(And_FOL(Not_FOL(P(a, a)), Q(f(a))), Or_FOL(P(a), Not_FOL(Q(f(a), a, a))))), Or_FOL(Not_FOL(P(b)), And_FOL(And_FOL(Not_FOL(P(b, a)), Q(f(a))), Or_FOL(P(b), Not_FOL(Q(f(b), a, a)))))), Or_FOL(Or_FOL(Not_FOL(P(a)), And_FOL(And_FOL(Not_FOL(P(a, b)), Q(f(b))), Or_FOL(P(a), Not_FOL(Q(f(a), a, a))))), Or_FOL(Not_FOL(P(b)), And_FOL(And_FOL(Not_FOL(P(b, b)), Q(f(b))), Or_FOL(P(b), Not_FOL(Q(f(b), a, a))))))), Or_FOL(Or_FOL(Or_FOL(Not_FOL(P(a)), And_FOL(And_FOL(Not_FOL(P(a, a)), Q(f(a))), Or_FOL(P(a), Not_FOL(Q(f(a), a, b))))), Or_FOL(Not_FOL(P(b)), And_FOL(And_FOL(Not_FOL(P(b, a)), Q(f(a))), Or_FOL(P(b), Not_FOL(Q(f(b), a, b)))))), Or_FOL(Or_FOL(Not_FOL(P(a)), And_FOL(And_FOL(Not_FOL(P(a, b)), Q(f(b))), Or_FOL(P(a), Not_FOL(Q(f(a), a, b))))), Or_FOL(Not_FOL(P(b)), And_FOL(And_FOL(Not_FOL(P(b, b)), Q(f(b))), Or_FOL(P(b), Not_FOL(Q(f(b), a, b))))))))"
            ]
          },
          "metadata": {
            "tags": []
          },
          "execution_count": 11
        }
      ]
    },
    {
      "cell_type": "markdown",
      "metadata": {
        "id": "_HjcNWluGynM"
      },
      "source": [
        "# Unification"
      ]
    },
    {
      "cell_type": "code",
      "metadata": {
        "colab": {
          "base_uri": "https://localhost:8080/"
        },
        "id": "y1DTOd7mKPB9",
        "outputId": "917f1318-1320-444a-ae8b-53ecca36111b"
      },
      "source": [
        "unification(P(x), P(a))"
      ],
      "execution_count": 12,
      "outputs": [
        {
          "output_type": "execute_result",
          "data": {
            "text/plain": [
              "{x: a}"
            ]
          },
          "metadata": {
            "tags": []
          },
          "execution_count": 12
        }
      ]
    },
    {
      "cell_type": "code",
      "metadata": {
        "colab": {
          "base_uri": "https://localhost:8080/"
        },
        "id": "imnZPZTgG2vr",
        "outputId": "fc0d9ca5-b1c4-4442-ce58-22858ce0c7f9"
      },
      "source": [
        "unification(P(f(x)), P(y))"
      ],
      "execution_count": 13,
      "outputs": [
        {
          "output_type": "execute_result",
          "data": {
            "text/plain": [
              "{y: f(x)}"
            ]
          },
          "metadata": {
            "tags": []
          },
          "execution_count": 13
        }
      ]
    },
    {
      "cell_type": "code",
      "metadata": {
        "colab": {
          "base_uri": "https://localhost:8080/"
        },
        "id": "az9-UtNiKVIs",
        "outputId": "ab5b6043-0125-47ef-cf7d-9e2178637581"
      },
      "source": [
        "unification(P(f(x)), P(f(y)))"
      ],
      "execution_count": 14,
      "outputs": [
        {
          "output_type": "execute_result",
          "data": {
            "text/plain": [
              "{x: y}"
            ]
          },
          "metadata": {
            "tags": []
          },
          "execution_count": 14
        }
      ]
    },
    {
      "cell_type": "code",
      "metadata": {
        "colab": {
          "base_uri": "https://localhost:8080/"
        },
        "id": "kbMLYR7uO4s8",
        "outputId": "246d916e-bced-485e-ef5f-408e84ee1a9b"
      },
      "source": [
        "unification(g(g(x)),g(y))"
      ],
      "execution_count": 15,
      "outputs": [
        {
          "output_type": "execute_result",
          "data": {
            "text/plain": [
              "{y: g(x)}"
            ]
          },
          "metadata": {
            "tags": []
          },
          "execution_count": 15
        }
      ]
    },
    {
      "cell_type": "code",
      "metadata": {
        "colab": {
          "base_uri": "https://localhost:8080/"
        },
        "id": "bMcp5aLMQBgI",
        "outputId": "29d12457-15d9-4d78-9109-160d57a04e1b"
      },
      "source": [
        "unification(P(a,b,c),P(x,y,z))"
      ],
      "execution_count": 16,
      "outputs": [
        {
          "output_type": "execute_result",
          "data": {
            "text/plain": [
              "{x: a, y: b, z: c}"
            ]
          },
          "metadata": {
            "tags": []
          },
          "execution_count": 16
        }
      ]
    },
    {
      "cell_type": "code",
      "metadata": {
        "colab": {
          "base_uri": "https://localhost:8080/"
        },
        "id": "C8imjH9NWz0g",
        "outputId": "3cd9175b-53be-42df-ba76-b3d8779a55aa"
      },
      "source": [
        "unification(P(f(g(x,a)),x),P(z,b))"
      ],
      "execution_count": 17,
      "outputs": [
        {
          "output_type": "execute_result",
          "data": {
            "text/plain": [
              "{x: b, z: f(g(x, a))}"
            ]
          },
          "metadata": {
            "tags": []
          },
          "execution_count": 17
        }
      ]
    },
    {
      "cell_type": "code",
      "metadata": {
        "colab": {
          "base_uri": "https://localhost:8080/"
        },
        "id": "g7jCnh1AKT2g",
        "outputId": "e0f5f8fd-5901-4697-a2e0-340a243bd082"
      },
      "source": [
        "unification(P(f(x)), P(x))"
      ],
      "execution_count": 18,
      "outputs": [
        {
          "output_type": "execute_result",
          "data": {
            "text/plain": [
              "{}"
            ]
          },
          "metadata": {
            "tags": []
          },
          "execution_count": 18
        }
      ]
    },
    {
      "cell_type": "code",
      "metadata": {
        "colab": {
          "base_uri": "https://localhost:8080/"
        },
        "id": "LdKbdArzQMoi",
        "outputId": "20ac11fc-88c4-4f08-e2a7-29efe39bb049"
      },
      "source": [
        "unification(P(x,x),P(c,d))"
      ],
      "execution_count": 19,
      "outputs": [
        {
          "output_type": "execute_result",
          "data": {
            "text/plain": [
              "{}"
            ]
          },
          "metadata": {
            "tags": []
          },
          "execution_count": 19
        }
      ]
    },
    {
      "cell_type": "markdown",
      "metadata": {
        "id": "F_Xk7fktOm5A"
      },
      "source": [
        "# Resolution"
      ]
    },
    {
      "cell_type": "code",
      "metadata": {
        "colab": {
          "base_uri": "https://localhost:8080/"
        },
        "id": "x1r3wpsMXYg5",
        "outputId": "e244bde4-6c10-499e-b0ad-91474961aa66"
      },
      "source": [
        "binary_res(Clause(P(x)), Clause(~P(x)))"
      ],
      "execution_count": 20,
      "outputs": [
        {
          "output_type": "execute_result",
          "data": {
            "text/plain": [
              "False"
            ]
          },
          "metadata": {
            "tags": []
          },
          "execution_count": 20
        }
      ]
    },
    {
      "cell_type": "code",
      "metadata": {
        "id": "vZTVXo9jhjhz"
      },
      "source": [
        "binary_res(Clause(P(x)), Clause(P(x)))"
      ],
      "execution_count": 21,
      "outputs": []
    },
    {
      "cell_type": "code",
      "metadata": {
        "colab": {
          "base_uri": "https://localhost:8080/",
          "height": 38
        },
        "id": "Kf49TEr8hlF-",
        "outputId": "37885999-faab-45f9-be87-aa2a897623ed"
      },
      "source": [
        "binary_res(Clause(P(x) | Q(y)), Clause(P(x) | ~Q(y)))"
      ],
      "execution_count": 22,
      "outputs": [
        {
          "output_type": "execute_result",
          "data": {
            "text/latex": "$\\displaystyle Clause\\left(Q(y), P(x)\\right)$",
            "text/plain": [
              "Clause(Q(y), P(x))"
            ]
          },
          "metadata": {
            "tags": []
          },
          "execution_count": 22
        }
      ]
    },
    {
      "cell_type": "code",
      "metadata": {
        "colab": {
          "base_uri": "https://localhost:8080/",
          "height": 38
        },
        "id": "7wM20GKnhpBE",
        "outputId": "3e33a542-081b-4026-9597-78120f269034"
      },
      "source": [
        "binary_res(Clause(P(x) | Q(x)), Clause(P(x) | ~Q(y)))"
      ],
      "execution_count": 23,
      "outputs": [
        {
          "output_type": "execute_result",
          "data": {
            "text/latex": "$\\displaystyle Clause\\left(Q(x), P(x)\\right)$",
            "text/plain": [
              "Clause(Q(x), P(x))"
            ]
          },
          "metadata": {
            "tags": []
          },
          "execution_count": 23
        }
      ]
    }
  ]
}