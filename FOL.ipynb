{
  "nbformat": 4,
  "nbformat_minor": 0,
  "metadata": {
    "colab": {
      "name": "FOL.ipynb",
      "provenance": [],
      "collapsed_sections": []
    },
    "kernelspec": {
      "display_name": "KDM",
      "language": "python",
      "name": "kdm"
    },
    "language_info": {
      "codemirror_mode": {
        "name": "ipython",
        "version": 3
      },
      "file_extension": ".py",
      "mimetype": "text/x-python",
      "name": "python",
      "nbconvert_exporter": "python",
      "pygments_lexer": "ipython3",
      "version": "3.6.6"
    }
  },
  "cells": [
    {
      "cell_type": "markdown",
      "metadata": {
        "id": "ho9a5FRlNmer"
      },
      "source": [
        "# Sympy Expansion with First Order Logic"
      ]
    },
    {
      "cell_type": "code",
      "metadata": {
        "id": "Mx_R7I5m9Z4I"
      },
      "source": [
        "from sympy import cacheit, Symbol\n",
        "from sympy.core.function import Function, UndefinedFunction, Application\n",
        "import itertools\n",
        "\n",
        "class FOLConstant(Symbol):\n",
        "    is_Constant = True\n",
        "\n",
        "\n",
        "class FOLVariable(Symbol):\n",
        "    is_Constant = False\n",
        "\n",
        "\n",
        "class FOLFunction(Function):\n",
        "    def __new__(cls, *args, **options):\n",
        "        if cls is FOLFunction:\n",
        "            options['bases'] = (AppliedFOLFunction,)\n",
        "            # a predicate is considered as an UndefinedFunction\n",
        "            res = UndefinedFunction(*args, **options)\n",
        "            return res\n",
        "        return super(FOLFunction, cls).__new__(cls, *args, **options)\n",
        "\n",
        "    def ground(self, var_name, constant):\n",
        "        fun = FOLFunction(self.name)\n",
        "        variables = []\n",
        "        for i in range(0, len(self.args)):\n",
        "          if self.args[i].is_Symbol and self.args[i].name == var_name:\n",
        "            variables.append(constant)\n",
        "          elif self.args[i].is_Symbol:\n",
        "            variables.append(self.args[i])\n",
        "          else:\n",
        "            variables.append(self.args[i].ground(var_name, constant))\n",
        "        return fun(*variables)\n",
        "\n",
        "\n",
        "class AppliedFOLFunction(FOLFunction):\n",
        "    pass\n",
        "\n",
        "\n",
        "class Formula(Function):\n",
        "    is_Predicate = False\n",
        "    is_Quantifier = False\n",
        "\n",
        "    # called when operation is not allowed (as in sympy library)\n",
        "    def _noop(self, other=None):\n",
        "        raise TypeError('First order logic term not allowed in this context.')\n",
        "\n",
        "    # redefinition of and\n",
        "    def __and__(self, other):\n",
        "        \"\"\"Overloading for & operator\"\"\"\n",
        "        return FOLAnd(self, other)\n",
        "\n",
        "    __rand__ = __and__\n",
        "\n",
        "    # redefinition of or\n",
        "    def __or__(self, other):\n",
        "        \"\"\"Overloading for |\"\"\"\n",
        "        return FOLOr(self, other)\n",
        "\n",
        "    __ror__ = __or__\n",
        "\n",
        "    # redefinition of not\n",
        "    def __invert__(self):\n",
        "        \"\"\"Overloading for ~\"\"\"\n",
        "        return FOLNot(self)\n",
        "\n",
        "    # redefinition of implies\n",
        "    def __rshift__(self, other):\n",
        "        \"\"\"Overloading for >>\"\"\"\n",
        "        return FOLImplies(self, other)\n",
        "\n",
        "    # redefinition of is implied\n",
        "    def __lshift__(self, other):\n",
        "        \"\"\"Overloading for <<\"\"\"\n",
        "        return FOLImplies(other, self)\n",
        "\n",
        "    __rrshift__ = __lshift__\n",
        "    __rlshift__ = __rshift__\n",
        "\n",
        "    # redefinition of is xor\n",
        "    def __xor__(self, other):\n",
        "        return FOLOr(FOLAnd(self, FOLNot(other)), FOLAnd(FOLNot(self), other))\n",
        "\n",
        "    __rxor__ = __xor__\n",
        "\n",
        "    __add__ = _noop\n",
        "    __radd__ = _noop\n",
        "    __sub__ = _noop\n",
        "    __rsub__ = _noop\n",
        "    __mul__ = _noop\n",
        "    __rmul__ = _noop\n",
        "    __pow__ = _noop\n",
        "    __rpow__ = _noop\n",
        "    __rdiv__ = _noop\n",
        "    __truediv__ = _noop\n",
        "    __div__ = _noop\n",
        "    __rtruediv__ = _noop\n",
        "    __mod__ = _noop\n",
        "    __rmod__ = _noop\n",
        "    _eval_power = _noop\n",
        "\n",
        "    def _apply_not(self):\n",
        "        raise NotImplementedError(\"Implementation Error\")\n",
        "\n",
        "    # negation normal form\n",
        "    def to_nnf(self):\n",
        "        raise NotImplementedError(\"Implementation Error\")\n",
        "\n",
        "    # skolem normal form\n",
        "    def to_snf(self, skolem_function_symbol= None):\n",
        "        from sympy.first_order_logic.algorithm import to_snf\n",
        "        return to_snf(self, skolem_function_symbol)\n",
        "\n",
        "    # prenex normal form\n",
        "    def to_pnf(self):\n",
        "        from sympy.first_order_logic.algorithm import to_pnf\n",
        "        return to_pnf(self)\n",
        "\n",
        "    def to_list_clauses(self):\n",
        "        from sympy.first_order_logic.algorithm import to_list_clauses\n",
        "        return to_list_clauses(self)\n",
        "\n",
        "    def is_satisfiable(self, algorithm=None):\n",
        "        f = self.to_nnf()\n",
        "        f = f.to_pnf()\n",
        "        f = f.to_snf()\n",
        "        if algorithm is None:\n",
        "            from sympy.first_order_logic.algorithm import Resolution\n",
        "            algorithm = Resolution()\n",
        "        c = f.to_list_clauses()\n",
        "        return algorithm(*c)\n",
        "\n",
        "\n",
        "\"\"\"\n",
        "def func(self):\n",
        "        return self.__class__\n",
        "\"\"\"\n",
        "\n",
        "class FOLLogicOperator(Formula):\n",
        "    def to_nnf(self):\n",
        "        # every argument of the formula must have its own to_nnf() method\n",
        "        return self.func(*[a.to_nnf() for a in self.args])\n",
        "\n",
        "\n",
        "class FOLAnd(FOLLogicOperator):\n",
        "    nargs = 2\n",
        "\n",
        "    # not(A and B) = not A or not B\n",
        "    def _apply_not(self):\n",
        "        return FOLOr(self.args[0]._apply_not(), self.args[1]._apply_not())\n",
        "    \n",
        "    def _latex(self,printer,*args):        \n",
        "        if self.args[0].is_Predicate or self.args[0].is_Quantifier or self.args[0].func == FOLNot:\n",
        "            if self.args[1].is_Predicate or self.args[1].is_Quantifier or self.args[1].func == FOLNot:\n",
        "                return r'%s \\wedge %s'%tuple([self.args[0]._latex(printer,*args), self.args[1]._latex(printer,*args)])\n",
        "            else:\n",
        "                return r'%s \\wedge (%s)'%tuple([self.args[0]._latex(printer,*args), self.args[1]._latex(printer,*args)])\n",
        "        elif self.args[1].is_Predicate or self.args[1].is_Quantifier or self.args[1].func == FOLNot:\n",
        "            return r'(%s) \\wedge %s'%tuple([self.args[0]._latex(printer,*args), self.args[1]._latex(printer,*args)])\n",
        "\n",
        "        return r'(%s) \\wedge (%s)'%tuple([self.args[0]._latex(printer,*args), self.args[1]._latex(printer,*args)])\n",
        "    \n",
        "    def ground(self, var_name, constant):\n",
        "        return FOLAnd(self.args[0].ground(var_name, constant),self.args[1].ground(var_name, constant))\n",
        "\n",
        "\n",
        "class FOLOr(FOLLogicOperator):\n",
        "    nargs = 2\n",
        "    \n",
        "    # not(A or B) = not A and not B\n",
        "    def _apply_not(self):\n",
        "        return FOLAnd(self.args[0]._apply_not(), self.args[1]._apply_not())\n",
        "    \n",
        "    def _latex(self,printer,*args):\n",
        "        if self.args[0].is_Predicate or self.args[0].is_Quantifier or self.args[0].func == FOLNot:\n",
        "            if self.args[1].is_Predicate or self.args[1].is_Quantifier or self.args[1].func == FOLNot:\n",
        "                return r'%s \\vee %s'%tuple([self.args[0]._latex(printer,*args), self.args[1]._latex(printer,*args)])\n",
        "            else:\n",
        "                return r'%s \\vee (%s)'%tuple([self.args[0]._latex(printer,*args), self.args[1]._latex(printer,*args)])\n",
        "        elif self.args[1].is_Predicate or self.args[1].is_Quantifier or self.args[1].func == FOLNot:\n",
        "            return r'(%s) \\vee %s'%tuple([self.args[0]._latex(printer,*args), self.args[1]._latex(printer,*args)])\n",
        "\n",
        "        return r'(%s) \\vee (%s)'%tuple([self.args[0]._latex(printer,*args), self.args[1]._latex(printer,*args)])\n",
        "\n",
        "    def ground(self, var_name, constant):\n",
        "        return FOLOr(self.args[0].ground(var_name, constant),self.args[1].ground(var_name, constant))\n",
        "    \n",
        "    \n",
        "class FOLNot(FOLLogicOperator):\n",
        "    nargs = 1\n",
        "\n",
        "    # in NNF the logic operator not must only be in front of predicates\n",
        "    def to_nnf(self):\n",
        "        expr = self.args[0]\n",
        "        if (expr.is_Predicate):\n",
        "            return self\n",
        "\n",
        "        res = self.args[0]._apply_not()\n",
        "        return res.to_nnf()\n",
        "    \n",
        "    # not (not A) = A\n",
        "    def _apply_not(self):\n",
        "        return self.args[0]\n",
        "\n",
        "    def _latex(self,printer,*args):\n",
        "        if self.args[0].is_Predicate or self.args[0].is_Quantifier or self.args[0].func == FOLNot:\n",
        "            return r'\\lnot %s'%tuple([self.args[0]._latex(printer,*args)])\n",
        "        return r'\\lnot (%s)'%tuple([self.args[0]._latex(printer,*args)])\n",
        "\n",
        "    def ground(self, var_name, constant):\n",
        "        return FOLNot(self.args[0].ground(var_name, constant))\n",
        "\n",
        "\n",
        "class FOLImplies(FOLLogicOperator):\n",
        "    nargs = 2\n",
        "\n",
        "    # A -> B = not A or B\n",
        "    def to_nnf(self):\n",
        "        return FOLOr(self.args[0]._apply_not().to_nnf(), self.args[1].to_nnf())\n",
        "\n",
        "    # not (A -> B) = A and not B\n",
        "    def _apply_not(self):\n",
        "        return FOLAnd(self.args[0], self.args[1]._apply_not())\n",
        "    \n",
        "    def _latex(self,printer,*args):\n",
        "        if self.args[0].is_Predicate or self.args[0].is_Quantifier or self.args[0].func == FOLNot:\n",
        "            if self.args[1].is_Predicate or self.args[1].is_Quantifier or self.args[1].func == FOLNot:\n",
        "                return r'%s \\rightarrow %s'%tuple([self.args[0]._latex(printer,*args), self.args[1]._latex(printer,*args)])\n",
        "            else:\n",
        "                return r'%s \\rightarrow (%s)'%tuple([self.args[0]._latex(printer,*args), self.args[1]._latex(printer,*args)])\n",
        "        elif self.args[1].is_Predicate or self.args[1].is_Quantifier or self.args[1].func == FOLNot:\n",
        "            return r'(%s) \\rightarrow %s'%tuple([self.args[0]._latex(printer,*args), self.args[1]._latex(printer,*args)])\n",
        "        return r'(%s) \\rightarrow (%s)'%tuple([self.args[0]._latex(printer,*args), self.args[1]._latex(printer,*args)])\n",
        "\n",
        "    def ground(self, var_name, constant):\n",
        "        return FOLImplies(self.args[0].ground(var_name, constant),self.args[1].ground(var_name, constant))\n",
        "\n",
        "\n",
        "class Predicate(Formula):\n",
        "    is_Atom = True\n",
        "    is_Predicate = True\n",
        "    is_Equality = False\n",
        "\n",
        "    @cacheit\n",
        "    def __new__(cls, *args, **options):\n",
        "        if cls is Predicate:\n",
        "            options['bases'] = (AppliedPredicate,)\n",
        "            # a predicate is considered as an UndefinedFunction\n",
        "            res = UndefinedFunction(*args, **options)\n",
        "            return res\n",
        "        return super(Predicate, cls).__new__(cls, *args, **options)\n",
        "\n",
        "    def to_nnf(self):\n",
        "        return self\n",
        "\n",
        "    def _apply_not(self):\n",
        "        return FOLNot(self)\n",
        "\n",
        "    def _latex(self,printer,*args):\n",
        "        return r'%s'% str(self)\n",
        "    \n",
        "    def ground(self, var_name, constant):\n",
        "        vec = []\n",
        "        for i in range(0,len(self.args)):\n",
        "          if self.args[i].name == var_name:\n",
        "            vec.append(i)\n",
        "        pred = Predicate(self.name)\n",
        "\n",
        "        variables = []\n",
        "        for i in range(0,len(self.args)):\n",
        "          if i in vec:\n",
        "            variables.append(constant)\n",
        "          else:\n",
        "            if self.args[i].is_Symbol:\n",
        "              variables.append(self.args[i])\n",
        "            else:\n",
        "              variables.append(self.args[i].ground(var_name,constant))\n",
        "        return pred(*variables)\n",
        "\n",
        "\n",
        "class AppliedPredicate(Predicate):\n",
        "    pass\n",
        "\n",
        "\n",
        "class Quantifier(Formula):\n",
        "    nargs = 1\n",
        "    is_Quantifier = True\n",
        "    is_Forall = False\n",
        "    is_Exists = False\n",
        "    _symbol = None\n",
        "\n",
        "    def __new__(cls, *args, **options):\n",
        "        if cls in (Forall, Exists):\n",
        "            argslist = list(args)\n",
        "            symbol = argslist[0] # variable which is not free\n",
        "            argslist[0] = cls.name + symbol.name\n",
        "            args = tuple(argslist)\n",
        "            options['bases'] = (cls._getAppliedClass(),)\n",
        "            res = UndefinedFunction(*args, **options)\n",
        "            res._symbol = symbol\n",
        "            return res\n",
        "        return super(Quantifier, cls).__new__(cls, *args, **options)\n",
        "\n",
        "    @property\n",
        "    def symbol(self):\n",
        "        return self._symbol\n",
        "\n",
        "    @property\n",
        "    def formula(self):\n",
        "        return self.args[0]\n",
        "\n",
        "    def to_nnf(self):\n",
        "        return self.func(self.formula.to_nnf())\n",
        "\n",
        "\n",
        "class Forall(Quantifier):\n",
        "    is_Forall = True\n",
        "    name = 'Forall_'\n",
        "    \n",
        "    # not forall = exist not\n",
        "    def _apply_not(self):\n",
        "        exists = Exists(self.symbol)\n",
        "        return exists(self.formula._apply_not())\n",
        "\n",
        "    @staticmethod\n",
        "    def _getAppliedClass():\n",
        "        return AppliedForall\n",
        "    \n",
        "    def _latex(self,printer,*args):\n",
        "        if self.formula.is_Predicate or self.args[0].func == FOLNot:\n",
        "            return r'\\forall %s %s'%tuple([printer._print(self.symbol,*args), self.formula._latex(printer,*args)])\n",
        "        return r'\\forall %s (%s)'%tuple([printer._print(self.symbol,*args), self.formula._latex(printer,*args)])\n",
        "    \n",
        "    def ground(self, set_const):\n",
        "        formula = self.formula.ground(self.symbol.name, set_const[0])\n",
        "        for i in range(1, len(set_const)):\n",
        "          formula = FOLAnd(formula, self.formula.ground(self.symbol.name, set_const[i]))\n",
        "        return formula\n",
        "\n",
        "class AppliedForall(Forall):\n",
        "    pass\n",
        "\n",
        "\n",
        "class Exists(Quantifier):\n",
        "    is_Exists = True\n",
        "    name = 'Exists_'\n",
        "\n",
        "    # not exists = forall not\n",
        "    def _apply_not(self):\n",
        "        forall = Forall(self.symbol)\n",
        "        return forall(self.formula._apply_not())\n",
        "\n",
        "    @staticmethod\n",
        "    def _getAppliedClass():\n",
        "        return AppliedExists\n",
        "    \n",
        "    def _latex(self,printer,*args):\n",
        "        if self.formula.is_Predicate or self.args[0].func == FOLNot:\n",
        "            return r'\\exists %s %s'%tuple([printer._print(self.symbol,*args), self.formula._latex(printer,*args)])\n",
        "        return r'\\exists %s (%s)'%tuple([printer._print(self.symbol,*args), self.formula._latex(printer,*args)])\n",
        "    \n",
        "    def ground(self, set_const):\n",
        "        formula = self.formula.ground(self.symbol.name, set_const[0])\n",
        "        for i in range(1, len(set_const)):\n",
        "          formula = FOLOr(formula, self.formula.ground(self.symbol.name, set_const[i]))\n",
        "        return formula\n",
        "\n",
        "class AppliedExists(Exists):\n",
        "    pass\n",
        "\n",
        "\n",
        "def formula_to_list(formula, delimiter):\n",
        "    if isinstance(formula, delimiter):\n",
        "        l = []\n",
        "        l.extend(formula_to_list(formula.args[0], delimiter))\n",
        "        l.extend(formula_to_list(formula.args[1], delimiter))\n",
        "        return l\n",
        "    else:\n",
        "        return [formula]\n",
        "\n",
        "def remove_quantifiers(formula):\n",
        "    quantifiers = []\n",
        "    if formula.is_Predicate:\n",
        "        return formula, quantifiers\n",
        "    func = formula.func\n",
        "    if formula.is_Quantifier:\n",
        "        quantifiers.append(func)\n",
        "        ret, q = remove_quantifiers(formula.formula)\n",
        "        quantifiers.extend(q)\n",
        "        return ret, quantifiers\n",
        "    else:\n",
        "        new_args = []\n",
        "        args = formula.args\n",
        "        for arg in args:\n",
        "            f, q = remove_quantifiers(arg)\n",
        "            new_args.append(f)\n",
        "            quantifiers.extend(q)\n",
        "        return func(*new_args), quantifiers\n",
        "\n",
        "\n",
        "class Clause(Application):\n",
        "    _formula = None\n",
        "\n",
        "    def __new__(cls, *args, **kwargs):\n",
        "        args_list = list(args)\n",
        "        if([] in args_list):\n",
        "            args_list.remove([])\n",
        "        if len(args_list) == 1 and not args_list[0].is_Predicate and args_list[0].func is not FOLNot:\n",
        "            f,_ = remove_quantifiers(args_list[0])\n",
        "            args = formula_to_list(f, FOLOr)\n",
        "        return super(Clause, cls).__new__(cls, *args, **kwargs)\n",
        "\n",
        "    def substitute(self, sub):\n",
        "        f = self.formula.xreplace(sub)\n",
        "        return Clause(f)\n",
        "\n",
        "\n",
        "    @property\n",
        "    def list(self):\n",
        "        return list(self.args).copy()\n",
        "\n",
        "    @property\n",
        "    def formula(self):\n",
        "        if self._formula is None:\n",
        "            self._to_formula()\n",
        "\n",
        "        return self._formula\n",
        "\n",
        "    def _to_formula(self):\n",
        "        f = None\n",
        "        for a in self.args:\n",
        "            if f is None:\n",
        "                f = a\n",
        "            else:\n",
        "                f = FOLOr(f, a)\n",
        "\n",
        "        for s in self._get_symbols(f).keys():\n",
        "            f = Forall(s)(f)\n",
        "\n",
        "        self._formula = f\n",
        "\n",
        "    @classmethod\n",
        "    def _get_symbols(cls, e):\n",
        "        if e.func is Symbol and not e.is_Constant:\n",
        "            return {e: True}\n",
        "\n",
        "        dic = {}\n",
        "        for a in e.args:\n",
        "            dic.update(cls._get_symbols(a))\n",
        "        return dic"
      ],
      "execution_count": 1,
      "outputs": []
    },
    {
      "cell_type": "markdown",
      "metadata": {
        "id": "Z4bwP-gwN3Pw"
      },
      "source": [
        "# FOL Algorithms"
      ]
    },
    {
      "cell_type": "code",
      "metadata": {
        "id": "cczJAyEpN1U7"
      },
      "source": [
        "# ---------\n",
        "# GROUNDING\n",
        "# ---------\n",
        "\n",
        "def to_pnf(formula):\n",
        "    # Assume to have a different symbol for each quantifier\n",
        "    pnf_formula, quantifiers = remove_quantifiers(formula)\n",
        "    quantifiers.reverse()\n",
        "    for q in quantifiers:\n",
        "        pnf_formula = q(pnf_formula)\n",
        "    return pnf_formula\n",
        "\n",
        "\n",
        "def grounding(formula, constants_set):\n",
        "    # Assume to have the formula in NNF and PNF\n",
        "    formula, quantifiers = remove_quantifiers(formula)\n",
        "    for quant in quantifiers:\n",
        "      formula = quant(formula).ground(constants_set)\n",
        "    return formula\n",
        "\n",
        "\n",
        "# -----------\n",
        "# UNIFICATION\n",
        "# -----------\n",
        "\n",
        "def unification(literal1, literal2, check_equality=False):\n",
        "    if literal1.func is not literal2.func:\n",
        "        return {}\n",
        "    l1_args = literal1.args\n",
        "    l2_args = literal2.args\n",
        "    if len(l1_args) != len(l2_args):\n",
        "      return {}\n",
        "    sub = {}\n",
        "    for i in range(0, len(l1_args)):\n",
        "        s = _unification_term(l1_args[i], l2_args[i], sub)\n",
        "        if s is None:\n",
        "            return {}\n",
        "        else:\n",
        "            sub.update(s)\n",
        "    return sub\n",
        "\n",
        "\n",
        "def _unification_term(t1, t2, sub):\n",
        "    if t1 in sub.keys():\n",
        "      t1 = sub.get(t1)\n",
        "    if t2 in sub.keys():\n",
        "      t2 = sub.get(t2)\n",
        "    if t1.is_Symbol and t2.is_Symbol and t1.name == t2.name:\n",
        "        return sub\n",
        "    if t2.is_Symbol and not t2.is_Constant:\n",
        "        t3 = t1\n",
        "        t1 = t2\n",
        "        t2 = t3\n",
        "    if t1.is_Symbol and not t1.is_Constant:\n",
        "        if t2.is_Symbol or not _contains_term_variable(t2, t1):\n",
        "            sub.update({t1: t2})\n",
        "            return sub\n",
        "    if t1.is_Function and t2.is_Function:\n",
        "        if t1.func is t2.func:\n",
        "            t1_args = t1.args\n",
        "            t2_args = t2.args\n",
        "            for i in range(0, len(t1_args)):\n",
        "                s = _unification_term(t1_args[i], t2_args[i], sub)\n",
        "                if s is None:\n",
        "                    return None\n",
        "                else:\n",
        "                    sub.update(s)\n",
        "            return sub\n",
        "    return None\n",
        "\n",
        "\n",
        "def _contains_term_variable(term, var):\n",
        "    if term.is_Symbol:\n",
        "        if (term.is_Constant):\n",
        "            return False\n",
        "        else:\n",
        "            return term is var\n",
        "    res = False\n",
        "    for a in term.args:\n",
        "        res = res | _contains_term_variable(a, var)\n",
        "    return res\n",
        "\n",
        "\n",
        "# ----------------------\n",
        "# BINARY RESOLUTION RULE\n",
        "# ----------------------\n",
        "\n",
        "\n",
        "def binary_res(clause1, clause2):\n",
        "    cl1 = clause1.list\n",
        "    cl2 = clause2.list\n",
        "    sub = None\n",
        "\n",
        "    for l1, l2 in itertools.product(cl1, cl2):\n",
        "        if l1.func is FOLNot and issubclass(l2.func, Predicate):\n",
        "            sub = unification(l1.args[0], l2)\n",
        "\n",
        "        if l2.func is FOLNot and issubclass(l1.func, Predicate):\n",
        "            sub = unification(l2.args[0], l1)\n",
        "\n",
        "        if sub is not None:\n",
        "            cl1.remove(l1)\n",
        "            cl2.remove(l2)\n",
        "            break\n",
        "\n",
        "    if sub is None:\n",
        "        return None\n",
        "\n",
        "    if (len(cl1) == 0 and len(cl2) == 0):\n",
        "        return False\n",
        "\n",
        "    cl1.extend(cl2)\n",
        "\n",
        "    return Clause(*cl1).substitute(sub)\n"
      ],
      "execution_count": 2,
      "outputs": []
    },
    {
      "cell_type": "code",
      "metadata": {
        "id": "ibut9zlY9Z4R"
      },
      "source": [
        "from sympy.core import Function, Symbol\n",
        "\n",
        "x = FOLVariable('x')\n",
        "y = FOLVariable('y')\n",
        "z = FOLVariable('z')\n",
        "\n",
        "a = FOLConstant('a')\n",
        "b = FOLConstant('b')\n",
        "c = FOLConstant('c')\n",
        "d = FOLConstant('d')\n",
        "\n",
        "f = FOLFunction('f')\n",
        "g = FOLFunction('g')\n",
        "h = FOLFunction('h')\n",
        "\n",
        "P = Predicate('P')\n",
        "Q = Predicate('Q')\n",
        "R = Predicate('R')\n"
      ],
      "execution_count": 3,
      "outputs": []
    },
    {
      "cell_type": "markdown",
      "metadata": {
        "id": "uVgOx2fDDMI5"
      },
      "source": [
        "# Grounding: Simple Example"
      ]
    },
    {
      "cell_type": "code",
      "metadata": {
        "colab": {
          "base_uri": "https://localhost:8080/",
          "height": 38
        },
        "id": "2JjrSkWQDk7A",
        "outputId": "b158b9d6-b4b3-48cb-f124-acb0e7368653"
      },
      "source": [
        "formula = ~Forall(x) (P(x) & Exists(y)(P(y)))\n",
        "formula"
      ],
      "execution_count": 4,
      "outputs": [
        {
          "output_type": "execute_result",
          "data": {
            "text/latex": "$\\displaystyle \\lnot \\forall x (P(x) \\wedge \\exists y P(y))$",
            "text/plain": [
              "FOLNot(Forall_x(FOLAnd(P(x), Exists_y(P(y)))))"
            ]
          },
          "metadata": {
            "tags": []
          },
          "execution_count": 4
        }
      ]
    },
    {
      "cell_type": "markdown",
      "metadata": {
        "id": "iPD-vfvfDZYQ"
      },
      "source": [
        "Negation Normal Form\n"
      ]
    },
    {
      "cell_type": "code",
      "metadata": {
        "colab": {
          "base_uri": "https://localhost:8080/",
          "height": 38
        },
        "id": "tyGxqtyd_C5Z",
        "outputId": "58cc37be-0f0c-42f1-a723-ee03ff29978b"
      },
      "source": [
        "formula.nnf = formula.to_nnf()\n",
        "formula.nnf"
      ],
      "execution_count": 5,
      "outputs": [
        {
          "output_type": "execute_result",
          "data": {
            "text/latex": "$\\displaystyle \\exists x (\\lnot P(x) \\vee \\forall y \\lnot P(y))$",
            "text/plain": [
              "Exists_x(FOLOr(FOLNot(P(x)), Forall_y(FOLNot(P(y)))))"
            ]
          },
          "metadata": {
            "tags": []
          },
          "execution_count": 5
        }
      ]
    },
    {
      "cell_type": "markdown",
      "metadata": {
        "id": "P1KJ9YuTDuZ0"
      },
      "source": [
        "Prenex Normal Form"
      ]
    },
    {
      "cell_type": "code",
      "metadata": {
        "colab": {
          "base_uri": "https://localhost:8080/",
          "height": 38
        },
        "id": "2eYk-sqT_e9E",
        "outputId": "28a7eda0-68c5-480c-f0e1-cd82dcecb19d"
      },
      "source": [
        "formula.pnf = to_pnf(formula.nnf)\n",
        "formula.pnf"
      ],
      "execution_count": 6,
      "outputs": [
        {
          "output_type": "execute_result",
          "data": {
            "text/latex": "$\\displaystyle \\exists x (\\forall y (\\lnot P(x) \\vee \\lnot P(y)))$",
            "text/plain": [
              "Exists_x(Forall_y(FOLOr(FOLNot(P(x)), FOLNot(P(y)))))"
            ]
          },
          "metadata": {
            "tags": []
          },
          "execution_count": 6
        }
      ]
    },
    {
      "cell_type": "markdown",
      "metadata": {
        "id": "I_7RF3iUD0SA"
      },
      "source": [
        "Grounding"
      ]
    },
    {
      "cell_type": "code",
      "metadata": {
        "colab": {
          "base_uri": "https://localhost:8080/",
          "height": 38
        },
        "id": "r-n089vG_mit",
        "outputId": "89429d67-514e-441d-dfb1-29aa9a81e7f7"
      },
      "source": [
        "Delta = [a,b]\n",
        "grounding(formula.pnf,Delta)"
      ],
      "execution_count": 7,
      "outputs": [
        {
          "output_type": "execute_result",
          "data": {
            "text/latex": "$\\displaystyle ((\\lnot P(a) \\vee \\lnot P(a)) \\vee (\\lnot P(b) \\vee \\lnot P(a))) \\wedge ((\\lnot P(a) \\vee \\lnot P(b)) \\vee (\\lnot P(b) \\vee \\lnot P(b)))$",
            "text/plain": [
              "FOLAnd(FOLOr(FOLOr(FOLNot(P(a)), FOLNot(P(a))), FOLOr(FOLNot(P(b)), FOLNot(P(a)))), FOLOr(FOLOr(FOLNot(P(a)), FOLNot(P(b))), FOLOr(FOLNot(P(b)), FOLNot(P(b)))))"
            ]
          },
          "metadata": {
            "tags": []
          },
          "execution_count": 7
        }
      ]
    },
    {
      "cell_type": "markdown",
      "metadata": {
        "id": "56fxeAIpEMdZ"
      },
      "source": [
        "# Grounding: More Complex Example"
      ]
    },
    {
      "cell_type": "code",
      "metadata": {
        "colab": {
          "base_uri": "https://localhost:8080/",
          "height": 38
        },
        "id": "KZOOsEaDEVL-",
        "outputId": "941248fa-5dc0-421b-b14f-a7c5534df683"
      },
      "source": [
        "formula = ~Forall(x) (P(x) & (Exists (y) (~P(x,y) & Q(f(y))) >> Exists (z) (~P(x) & Q(f(x),a,z))))\n",
        "formula"
      ],
      "execution_count": 8,
      "outputs": [
        {
          "output_type": "execute_result",
          "data": {
            "text/latex": "$\\displaystyle \\lnot \\forall x (P(x) \\wedge (\\exists y (\\lnot P(x, y) \\wedge Q(f(y))) \\rightarrow \\exists z (\\lnot P(x) \\wedge Q(f(x), a, z))))$",
            "text/plain": [
              "FOLNot(Forall_x(FOLAnd(P(x), FOLImplies(Exists_y(FOLAnd(FOLNot(P(x, y)), Q(f(y)))), Exists_z(FOLAnd(FOLNot(P(x)), Q(f(x), a, z)))))))"
            ]
          },
          "metadata": {
            "tags": []
          },
          "execution_count": 8
        }
      ]
    },
    {
      "cell_type": "markdown",
      "metadata": {
        "id": "zoYWqWNwKcmw"
      },
      "source": [
        "Negation Normal Form"
      ]
    },
    {
      "cell_type": "code",
      "metadata": {
        "colab": {
          "base_uri": "https://localhost:8080/",
          "height": 38
        },
        "id": "wfSBQFpW-QE3",
        "outputId": "d80d0bfc-da4a-4f20-997f-fb730ecc5e1b"
      },
      "source": [
        "formula.nnf = formula.to_nnf()\n",
        "formula.nnf"
      ],
      "execution_count": 9,
      "outputs": [
        {
          "output_type": "execute_result",
          "data": {
            "text/latex": "$\\displaystyle \\exists x (\\lnot P(x) \\vee (\\exists y (\\lnot P(x, y) \\wedge Q(f(y))) \\wedge \\forall z (P(x) \\vee \\lnot Q(f(x), a, z))))$",
            "text/plain": [
              "Exists_x(FOLOr(FOLNot(P(x)), FOLAnd(Exists_y(FOLAnd(FOLNot(P(x, y)), Q(f(y)))), Forall_z(FOLOr(P(x), FOLNot(Q(f(x), a, z)))))))"
            ]
          },
          "metadata": {
            "tags": []
          },
          "execution_count": 9
        }
      ]
    },
    {
      "cell_type": "markdown",
      "metadata": {
        "id": "SqOq2_LqE5LL"
      },
      "source": [
        "Prenex Normal Form"
      ]
    },
    {
      "cell_type": "code",
      "metadata": {
        "colab": {
          "base_uri": "https://localhost:8080/",
          "height": 38
        },
        "id": "eHCwQ6Kw-UgY",
        "outputId": "a5fee07a-a326-4929-cb7b-bb6fb6bb0e81"
      },
      "source": [
        "formula.pnf = to_pnf(formula.nnf)\n",
        "formula.pnf"
      ],
      "execution_count": 10,
      "outputs": [
        {
          "output_type": "execute_result",
          "data": {
            "text/latex": "$\\displaystyle \\exists x (\\exists y (\\forall z (\\lnot P(x) \\vee ((\\lnot P(x, y) \\wedge Q(f(y))) \\wedge (P(x) \\vee \\lnot Q(f(x), a, z))))))$",
            "text/plain": [
              "Exists_x(Exists_y(Forall_z(FOLOr(FOLNot(P(x)), FOLAnd(FOLAnd(FOLNot(P(x, y)), Q(f(y))), FOLOr(P(x), FOLNot(Q(f(x), a, z))))))))"
            ]
          },
          "metadata": {
            "tags": []
          },
          "execution_count": 10
        }
      ]
    },
    {
      "cell_type": "markdown",
      "metadata": {
        "id": "jWRKVia4FD4_"
      },
      "source": [
        "Grounding"
      ]
    },
    {
      "cell_type": "code",
      "metadata": {
        "colab": {
          "base_uri": "https://localhost:8080/",
          "height": 103
        },
        "id": "ch5nd-H8-aya",
        "outputId": "b56335e2-7370-496f-c91b-39dcee169e4b"
      },
      "source": [
        "grounding(formula.pnf,[a,b])"
      ],
      "execution_count": 11,
      "outputs": [
        {
          "output_type": "execute_result",
          "data": {
            "text/latex": "$\\displaystyle (((\\lnot P(a) \\vee ((\\lnot P(a, a) \\wedge Q(f(a))) \\wedge (P(a) \\vee \\lnot Q(f(a), a, a)))) \\vee (\\lnot P(b) \\vee ((\\lnot P(b, a) \\wedge Q(f(a))) \\wedge (P(b) \\vee \\lnot Q(f(b), a, a))))) \\vee ((\\lnot P(a) \\vee ((\\lnot P(a, b) \\wedge Q(f(b))) \\wedge (P(a) \\vee \\lnot Q(f(a), a, a)))) \\vee (\\lnot P(b) \\vee ((\\lnot P(b, b) \\wedge Q(f(b))) \\wedge (P(b) \\vee \\lnot Q(f(b), a, a)))))) \\wedge (((\\lnot P(a) \\vee ((\\lnot P(a, a) \\wedge Q(f(a))) \\wedge (P(a) \\vee \\lnot Q(f(a), a, b)))) \\vee (\\lnot P(b) \\vee ((\\lnot P(b, a) \\wedge Q(f(a))) \\wedge (P(b) \\vee \\lnot Q(f(b), a, b))))) \\vee ((\\lnot P(a) \\vee ((\\lnot P(a, b) \\wedge Q(f(b))) \\wedge (P(a) \\vee \\lnot Q(f(a), a, b)))) \\vee (\\lnot P(b) \\vee ((\\lnot P(b, b) \\wedge Q(f(b))) \\wedge (P(b) \\vee \\lnot Q(f(b), a, b))))))$",
            "text/plain": [
              "FOLAnd(FOLOr(FOLOr(FOLOr(FOLNot(P(a)), FOLAnd(FOLAnd(FOLNot(P(a, a)), Q(f(a))), FOLOr(P(a), FOLNot(Q(f(a), a, a))))), FOLOr(FOLNot(P(b)), FOLAnd(FOLAnd(FOLNot(P(b, a)), Q(f(a))), FOLOr(P(b), FOLNot(Q(f(b), a, a)))))), FOLOr(FOLOr(FOLNot(P(a)), FOLAnd(FOLAnd(FOLNot(P(a, b)), Q(f(b))), FOLOr(P(a), FOLNot(Q(f(a), a, a))))), FOLOr(FOLNot(P(b)), FOLAnd(FOLAnd(FOLNot(P(b, b)), Q(f(b))), FOLOr(P(b), FOLNot(Q(f(b), a, a))))))), FOLOr(FOLOr(FOLOr(FOLNot(P(a)), FOLAnd(FOLAnd(FOLNot(P(a, a)), Q(f(a))), FOLOr(P(a), FOLNot(Q(f(a), a, b))))), FOLOr(FOLNot(P(b)), FOLAnd(FOLAnd(FOLNot(P(b, a)), Q(f(a))), FOLOr(P(b), FOLNot(Q(f(b), a, b)))))), FOLOr(FOLOr(FOLNot(P(a)), FOLAnd(FOLAnd(FOLNot(P(a, b)), Q(f(b))), FOLOr(P(a), FOLNot(Q(f(a), a, b))))), FOLOr(FOLNot(P(b)), FOLAnd(FOLAnd(FOLNot(P(b, b)), Q(f(b))), FOLOr(P(b), FOLNot(Q(f(b), a, b))))))))"
            ]
          },
          "metadata": {
            "tags": []
          },
          "execution_count": 11
        }
      ]
    },
    {
      "cell_type": "markdown",
      "metadata": {
        "id": "_HjcNWluGynM"
      },
      "source": [
        "# Unification"
      ]
    },
    {
      "cell_type": "code",
      "metadata": {
        "colab": {
          "base_uri": "https://localhost:8080/"
        },
        "id": "y1DTOd7mKPB9",
        "outputId": "cc33d9bf-0c31-44dd-c1a2-9bf8e1002ced"
      },
      "source": [
        "unification(P(x), P(a))"
      ],
      "execution_count": 12,
      "outputs": [
        {
          "output_type": "execute_result",
          "data": {
            "text/plain": [
              "{x: a}"
            ]
          },
          "metadata": {
            "tags": []
          },
          "execution_count": 12
        }
      ]
    },
    {
      "cell_type": "code",
      "metadata": {
        "colab": {
          "base_uri": "https://localhost:8080/"
        },
        "id": "imnZPZTgG2vr",
        "outputId": "573011f6-fd07-49c1-c635-adbee7a07fc6"
      },
      "source": [
        "unification(P(f(x)), P(y))"
      ],
      "execution_count": 13,
      "outputs": [
        {
          "output_type": "execute_result",
          "data": {
            "text/plain": [
              "{y: f(x)}"
            ]
          },
          "metadata": {
            "tags": []
          },
          "execution_count": 13
        }
      ]
    },
    {
      "cell_type": "code",
      "metadata": {
        "colab": {
          "base_uri": "https://localhost:8080/"
        },
        "id": "az9-UtNiKVIs",
        "outputId": "0d22eef0-43bc-47dc-e559-842b649208ce"
      },
      "source": [
        "unification(P(f(x)), P(f(y)))"
      ],
      "execution_count": 14,
      "outputs": [
        {
          "output_type": "execute_result",
          "data": {
            "text/plain": [
              "{y: x}"
            ]
          },
          "metadata": {
            "tags": []
          },
          "execution_count": 14
        }
      ]
    },
    {
      "cell_type": "code",
      "metadata": {
        "colab": {
          "base_uri": "https://localhost:8080/"
        },
        "id": "kbMLYR7uO4s8",
        "outputId": "5c0f7ae6-258e-4e41-9263-5379f23adc02"
      },
      "source": [
        "unification(g(g(x)),g(y))"
      ],
      "execution_count": 15,
      "outputs": [
        {
          "output_type": "execute_result",
          "data": {
            "text/plain": [
              "{y: g(x)}"
            ]
          },
          "metadata": {
            "tags": []
          },
          "execution_count": 15
        }
      ]
    },
    {
      "cell_type": "code",
      "metadata": {
        "colab": {
          "base_uri": "https://localhost:8080/"
        },
        "id": "bMcp5aLMQBgI",
        "outputId": "5e90d6f1-0154-48bc-d0dc-cd1bb7378c2e"
      },
      "source": [
        "unification(P(a,b,c),P(x,y,z))"
      ],
      "execution_count": 16,
      "outputs": [
        {
          "output_type": "execute_result",
          "data": {
            "text/plain": [
              "{x: a, y: b, z: c}"
            ]
          },
          "metadata": {
            "tags": []
          },
          "execution_count": 16
        }
      ]
    },
    {
      "cell_type": "code",
      "metadata": {
        "colab": {
          "base_uri": "https://localhost:8080/"
        },
        "id": "C8imjH9NWz0g",
        "outputId": "175c23c4-2836-4c54-f7c5-96dc4af0989f"
      },
      "source": [
        "unification(P(f(g(x,a)),x),P(z,b))"
      ],
      "execution_count": 17,
      "outputs": [
        {
          "output_type": "execute_result",
          "data": {
            "text/plain": [
              "{x: b, z: f(g(x, a))}"
            ]
          },
          "metadata": {
            "tags": []
          },
          "execution_count": 17
        }
      ]
    },
    {
      "cell_type": "code",
      "metadata": {
        "colab": {
          "base_uri": "https://localhost:8080/"
        },
        "id": "g7jCnh1AKT2g",
        "outputId": "6627e471-91b3-4d69-ee2e-c52be1cd3c3b"
      },
      "source": [
        "unification(P(f(x)), P(x))"
      ],
      "execution_count": 18,
      "outputs": [
        {
          "output_type": "execute_result",
          "data": {
            "text/plain": [
              "{}"
            ]
          },
          "metadata": {
            "tags": []
          },
          "execution_count": 18
        }
      ]
    },
    {
      "cell_type": "code",
      "metadata": {
        "colab": {
          "base_uri": "https://localhost:8080/"
        },
        "id": "LdKbdArzQMoi",
        "outputId": "e8f2d585-d689-4826-85c5-4cd944c5cfe9"
      },
      "source": [
        "unification(P(x,x),P(c,d))"
      ],
      "execution_count": 19,
      "outputs": [
        {
          "output_type": "execute_result",
          "data": {
            "text/plain": [
              "{}"
            ]
          },
          "metadata": {
            "tags": []
          },
          "execution_count": 19
        }
      ]
    },
    {
      "cell_type": "markdown",
      "metadata": {
        "id": "F_Xk7fktOm5A"
      },
      "source": [
        "# Resolution"
      ]
    },
    {
      "cell_type": "code",
      "metadata": {
        "colab": {
          "base_uri": "https://localhost:8080/"
        },
        "id": "x1r3wpsMXYg5",
        "outputId": "db51484b-4c83-485a-86df-bcd8cb31cc55"
      },
      "source": [
        "binary_res(Clause(P(x)), Clause(~P(x)))"
      ],
      "execution_count": 20,
      "outputs": [
        {
          "output_type": "execute_result",
          "data": {
            "text/plain": [
              "False"
            ]
          },
          "metadata": {
            "tags": []
          },
          "execution_count": 20
        }
      ]
    },
    {
      "cell_type": "code",
      "metadata": {
        "id": "vZTVXo9jhjhz"
      },
      "source": [
        "binary_res(Clause(P(x)), Clause(P(x)))"
      ],
      "execution_count": 21,
      "outputs": []
    },
    {
      "cell_type": "code",
      "metadata": {
        "colab": {
          "base_uri": "https://localhost:8080/",
          "height": 38
        },
        "id": "Kf49TEr8hlF-",
        "outputId": "c7f77065-1d56-42e9-f3a8-3dc39a4a1f1c"
      },
      "source": [
        "binary_res(Clause(P(x) | Q(y)), Clause(P(x) | ~Q(y)))"
      ],
      "execution_count": 22,
      "outputs": [
        {
          "output_type": "execute_result",
          "data": {
            "text/latex": "$\\displaystyle Clause\\left(Q(y), P(x)\\right)$",
            "text/plain": [
              "Clause(Q(y), P(x))"
            ]
          },
          "metadata": {
            "tags": []
          },
          "execution_count": 22
        }
      ]
    },
    {
      "cell_type": "code",
      "metadata": {
        "colab": {
          "base_uri": "https://localhost:8080/",
          "height": 38
        },
        "id": "7wM20GKnhpBE",
        "outputId": "aa7c6caa-81e1-4462-c009-221314638891"
      },
      "source": [
        "binary_res(Clause(P(x) | Q(x)), Clause(P(x) | ~Q(y)))"
      ],
      "execution_count": 23,
      "outputs": [
        {
          "output_type": "execute_result",
          "data": {
            "text/latex": "$\\displaystyle Clause\\left(Q(x), P(x)\\right)$",
            "text/plain": [
              "Clause(Q(x), P(x))"
            ]
          },
          "metadata": {
            "tags": []
          },
          "execution_count": 23
        }
      ]
    }
  ]
}