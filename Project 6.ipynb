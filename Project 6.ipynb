{
 "cells": [
  {
   "cell_type": "code",
   "execution_count": 23,
   "id": "martial-lambda",
   "metadata": {},
   "outputs": [
    {
     "data": {
      "text/latex": [
       "$\\displaystyle \\forall z (z \\wedge \\left(\\exists x (x \\wedge y) \\right)) $"
      ],
      "text/plain": [
       "forall(z, z & exist(x, x & y))"
      ]
     },
     "execution_count": 23,
     "metadata": {},
     "output_type": "execute_result"
    }
   ],
   "source": [
    "# Build Boolean expressions with the standard python operators:\n",
    "# & (And)\n",
    "#| (Or)\n",
    "# ~ (Not)\n",
    "# >> (implies)\n",
    "# << (is implied)\n",
    "\n",
    "from sympy import *\n",
    "from sympy.abc import x, y, z  # x, y, z = symbols('x, y, z')\n",
    "from sympy.core.logic import *\n",
    "from sympy.logic.boolalg import *\n",
    "x | y\n",
    "~ y\n",
    "x & y\n",
    "x >> y\n",
    "x << y\n",
    "\n",
    "# Formula evaluation:\n",
    "formula = x & y\n",
    "formula.subs({x:True, y:False})  # False\n",
    "formula.subs({x:True, y:True})   # True\n",
    "\n",
    "# Extract atoms from formula:\n",
    "formula.atoms()\n",
    "\n",
    "# Pay attention to symbols priority:\n",
    "formula = x | y >> z\n",
    "formula.subs({x:True, y:False, z:False})   # True\n",
    "formula = (x | y) >> z\n",
    "formula.subs({x:True, y:False, z:False})   # False\n",
    "\n",
    "# True and False:\n",
    "~ True            # -2\n",
    "~ False           # -1\n",
    "~sympify(True)    # False\n",
    "~sympify(False)   # True\n",
    "# or equivalently:\n",
    "~ true           \n",
    "~ false \n",
    "\n",
    "# Constants:\n",
    "class constant(Symbol):\n",
    "    def is_constant(self):\n",
    "        return True\n",
    "\n",
    "a = constant('a')\n",
    "   # True\n",
    "x.is_constant()   # False\n",
    "\n",
    "# Existential Quantifier:\n",
    "class exist(BooleanFunction):\n",
    "    def __init__(self, var, formula):\n",
    "        self.ref = var\n",
    "        self.formula = formula\n",
    "    def _latex(self,printer,*args):\n",
    "        return r'\\exists %s (%s) ' % tuple([printer._print(self.ref,*args), printer._print(self.formula,*args)])\n",
    "    \n",
    "# Existential quantifier example:\n",
    "ex = exist(x, x&y) \n",
    "ex.ref             # x\n",
    "ex.formula         # x & y\n",
    "\n",
    "exist(z, z&ex) \n",
    "\n",
    "# Universal Quantifier:\n",
    "class forall(BooleanFunction):\n",
    "    def __init__(self, var, formula):\n",
    "        self.ref = var\n",
    "        self.formula = formula\n",
    "    def _latex(self,printer,*args):\n",
    "        return r'\\forall %s (%s) ' % tuple([printer._print(self.ref,*args), printer._print(self.formula,*args)])\n",
    "    \n",
    "# Universal quantifier example:\n",
    "fa = forall(x, x&y) \n",
    "fa.ref             # x\n",
    "fa.formula         # x & y\n",
    "\n",
    "forall(z, z&ex) \n",
    "#forall(y, fa) \n",
    "\n",
    "# Predicates:\n"
   ]
  },
  {
   "cell_type": "code",
   "execution_count": null,
   "id": "exterior-tuning",
   "metadata": {},
   "outputs": [],
   "source": []
  }
 ],
 "metadata": {
  "kernelspec": {
   "display_name": "Python 3",
   "language": "python",
   "name": "python3"
  },
  "language_info": {
   "codemirror_mode": {
    "name": "ipython",
    "version": 3
   },
   "file_extension": ".py",
   "mimetype": "text/x-python",
   "name": "python",
   "nbconvert_exporter": "python",
   "pygments_lexer": "ipython3",
   "version": "3.6.13"
  }
 },
 "nbformat": 4,
 "nbformat_minor": 5
}
